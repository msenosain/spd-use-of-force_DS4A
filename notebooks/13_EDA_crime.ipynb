{
 "cells": [
  {
   "cell_type": "code",
   "execution_count": 196,
   "metadata": {},
   "outputs": [],
   "source": [
    "import numpy                 as np\n",
    "import pandas                as pd\n",
    "import matplotlib.pyplot     as plt\n",
    "import seaborn               as sns\n",
    "%matplotlib inline\n",
    "sns.set()"
   ]
  },
  {
   "cell_type": "code",
   "execution_count": 197,
   "metadata": {},
   "outputs": [
    {
     "output_type": "execute_result",
     "data": {
      "text/plain": [
       "               GO   Offense ID Offense Start DateTime     Report DateTime  \\\n",
       "0  20200000044620  12605873663    2020-02-05 10:10:00 2020-02-05 11:24:00   \n",
       "1  20200000044452  12605598696    2020-02-03 08:00:00 2020-02-05 10:06:00   \n",
       "2  20200000044465  12605567653    2020-02-02 20:30:00 2020-02-05 09:39:00   \n",
       "3  20200000044225  12605174036    2020-02-05 01:17:00 2020-02-05 03:30:00   \n",
       "4  20200000044076  12605081469    2020-02-05 00:51:00 2020-02-05 00:51:00   \n",
       "5  20200000044142  12605077150    2020-02-04 22:59:00 2020-02-05 00:45:00   \n",
       "6  20200000044104  12605029468    2020-02-04 20:30:00 2020-02-04 23:31:00   \n",
       "7  20200000043988  12604995759    2020-02-04 19:58:00 2020-02-04 22:46:00   \n",
       "8  20200000043928  12604963106    2020-02-04 19:01:00 2020-02-04 21:59:00   \n",
       "9  20200000044065  12605008517    2020-02-04 21:00:00 2020-02-04 21:47:00   \n",
       "\n",
       "  Crime Against Category                                      Offense  \\\n",
       "0                SOCIETY                     Drug/Narcotic Violations   \n",
       "1               PROPERTY  Theft of Motor Vehicle Parts or Accessories   \n",
       "2               PROPERTY                                      Robbery   \n",
       "3               PROPERTY     Destruction/Damage/Vandalism of Property   \n",
       "4                SOCIETY                  Driving Under the Influence   \n",
       "5               PROPERTY                                  Shoplifting   \n",
       "6               PROPERTY     Destruction/Damage/Vandalism of Property   \n",
       "7               PROPERTY                                  Shoplifting   \n",
       "8                SOCIETY                  Driving Under the Influence   \n",
       "9               PROPERTY                     Theft From Motor Vehicle   \n",
       "\n",
       "  NIBRS Offense Code Precinct Sector Beat                            MCPP  \\\n",
       "0                35A        W      Q   Q1                        MAGNOLIA   \n",
       "1                23G        N      J   J3               ROOSEVELT/RAVENNA   \n",
       "2                120        N      U   U3               ROOSEVELT/RAVENNA   \n",
       "3                290        W      Q   Q1                        MAGNOLIA   \n",
       "4                90D        N      B   B2                   BALLARD SOUTH   \n",
       "5                23C        W      M   M1             DOWNTOWN COMMERCIAL   \n",
       "6                290        N      J   J3                   PHINNEY RIDGE   \n",
       "7                23C       SW      F   F2  ROXHILL/WESTWOOD/ARBOR HEIGHTS   \n",
       "8                90D        N      L   L2                       NORTHGATE   \n",
       "9                23F        E      E   E2                    CAPITOL HILL   \n",
       "\n",
       "               100 Block Address   Longitude   Latitude  \n",
       "0       32XX BLOCK OF 23RD AVE W -122.385974  47.649387  \n",
       "1       63XX BLOCK OF 5TH AVE NE -122.323399  47.675118  \n",
       "2   26TH AVE NE / NE BLAKELEY ST -122.299552  47.666384  \n",
       "3        22XX BLOCK OF W RAYE ST -122.384865  47.642927  \n",
       "4        NW 46TH ST / 8TH AVE NW -122.366195  47.662193  \n",
       "5          14XX BLOCK OF 2ND AVE -122.338449  47.608789  \n",
       "6  71XX BLOCK OF GREENWOOD AVE N -122.355309  47.680527  \n",
       "7     26XX BLOCK OF SW BARTON ST -122.367312  47.521028  \n",
       "8       15TH AVE NE / NE 95TH ST -122.312078  47.697616  \n",
       "9         15XX BLOCK OF 12TH AVE -122.316845  47.614684  "
      ],
      "text/html": "<div>\n<style scoped>\n    .dataframe tbody tr th:only-of-type {\n        vertical-align: middle;\n    }\n\n    .dataframe tbody tr th {\n        vertical-align: top;\n    }\n\n    .dataframe thead th {\n        text-align: right;\n    }\n</style>\n<table border=\"1\" class=\"dataframe\">\n  <thead>\n    <tr style=\"text-align: right;\">\n      <th></th>\n      <th>GO</th>\n      <th>Offense ID</th>\n      <th>Offense Start DateTime</th>\n      <th>Report DateTime</th>\n      <th>Crime Against Category</th>\n      <th>Offense</th>\n      <th>NIBRS Offense Code</th>\n      <th>Precinct</th>\n      <th>Sector</th>\n      <th>Beat</th>\n      <th>MCPP</th>\n      <th>100 Block Address</th>\n      <th>Longitude</th>\n      <th>Latitude</th>\n    </tr>\n  </thead>\n  <tbody>\n    <tr>\n      <th>0</th>\n      <td>20200000044620</td>\n      <td>12605873663</td>\n      <td>2020-02-05 10:10:00</td>\n      <td>2020-02-05 11:24:00</td>\n      <td>SOCIETY</td>\n      <td>Drug/Narcotic Violations</td>\n      <td>35A</td>\n      <td>W</td>\n      <td>Q</td>\n      <td>Q1</td>\n      <td>MAGNOLIA</td>\n      <td>32XX BLOCK OF 23RD AVE W</td>\n      <td>-122.385974</td>\n      <td>47.649387</td>\n    </tr>\n    <tr>\n      <th>1</th>\n      <td>20200000044452</td>\n      <td>12605598696</td>\n      <td>2020-02-03 08:00:00</td>\n      <td>2020-02-05 10:06:00</td>\n      <td>PROPERTY</td>\n      <td>Theft of Motor Vehicle Parts or Accessories</td>\n      <td>23G</td>\n      <td>N</td>\n      <td>J</td>\n      <td>J3</td>\n      <td>ROOSEVELT/RAVENNA</td>\n      <td>63XX BLOCK OF 5TH AVE NE</td>\n      <td>-122.323399</td>\n      <td>47.675118</td>\n    </tr>\n    <tr>\n      <th>2</th>\n      <td>20200000044465</td>\n      <td>12605567653</td>\n      <td>2020-02-02 20:30:00</td>\n      <td>2020-02-05 09:39:00</td>\n      <td>PROPERTY</td>\n      <td>Robbery</td>\n      <td>120</td>\n      <td>N</td>\n      <td>U</td>\n      <td>U3</td>\n      <td>ROOSEVELT/RAVENNA</td>\n      <td>26TH AVE NE / NE BLAKELEY ST</td>\n      <td>-122.299552</td>\n      <td>47.666384</td>\n    </tr>\n    <tr>\n      <th>3</th>\n      <td>20200000044225</td>\n      <td>12605174036</td>\n      <td>2020-02-05 01:17:00</td>\n      <td>2020-02-05 03:30:00</td>\n      <td>PROPERTY</td>\n      <td>Destruction/Damage/Vandalism of Property</td>\n      <td>290</td>\n      <td>W</td>\n      <td>Q</td>\n      <td>Q1</td>\n      <td>MAGNOLIA</td>\n      <td>22XX BLOCK OF W RAYE ST</td>\n      <td>-122.384865</td>\n      <td>47.642927</td>\n    </tr>\n    <tr>\n      <th>4</th>\n      <td>20200000044076</td>\n      <td>12605081469</td>\n      <td>2020-02-05 00:51:00</td>\n      <td>2020-02-05 00:51:00</td>\n      <td>SOCIETY</td>\n      <td>Driving Under the Influence</td>\n      <td>90D</td>\n      <td>N</td>\n      <td>B</td>\n      <td>B2</td>\n      <td>BALLARD SOUTH</td>\n      <td>NW 46TH ST / 8TH AVE NW</td>\n      <td>-122.366195</td>\n      <td>47.662193</td>\n    </tr>\n    <tr>\n      <th>5</th>\n      <td>20200000044142</td>\n      <td>12605077150</td>\n      <td>2020-02-04 22:59:00</td>\n      <td>2020-02-05 00:45:00</td>\n      <td>PROPERTY</td>\n      <td>Shoplifting</td>\n      <td>23C</td>\n      <td>W</td>\n      <td>M</td>\n      <td>M1</td>\n      <td>DOWNTOWN COMMERCIAL</td>\n      <td>14XX BLOCK OF 2ND AVE</td>\n      <td>-122.338449</td>\n      <td>47.608789</td>\n    </tr>\n    <tr>\n      <th>6</th>\n      <td>20200000044104</td>\n      <td>12605029468</td>\n      <td>2020-02-04 20:30:00</td>\n      <td>2020-02-04 23:31:00</td>\n      <td>PROPERTY</td>\n      <td>Destruction/Damage/Vandalism of Property</td>\n      <td>290</td>\n      <td>N</td>\n      <td>J</td>\n      <td>J3</td>\n      <td>PHINNEY RIDGE</td>\n      <td>71XX BLOCK OF GREENWOOD AVE N</td>\n      <td>-122.355309</td>\n      <td>47.680527</td>\n    </tr>\n    <tr>\n      <th>7</th>\n      <td>20200000043988</td>\n      <td>12604995759</td>\n      <td>2020-02-04 19:58:00</td>\n      <td>2020-02-04 22:46:00</td>\n      <td>PROPERTY</td>\n      <td>Shoplifting</td>\n      <td>23C</td>\n      <td>SW</td>\n      <td>F</td>\n      <td>F2</td>\n      <td>ROXHILL/WESTWOOD/ARBOR HEIGHTS</td>\n      <td>26XX BLOCK OF SW BARTON ST</td>\n      <td>-122.367312</td>\n      <td>47.521028</td>\n    </tr>\n    <tr>\n      <th>8</th>\n      <td>20200000043928</td>\n      <td>12604963106</td>\n      <td>2020-02-04 19:01:00</td>\n      <td>2020-02-04 21:59:00</td>\n      <td>SOCIETY</td>\n      <td>Driving Under the Influence</td>\n      <td>90D</td>\n      <td>N</td>\n      <td>L</td>\n      <td>L2</td>\n      <td>NORTHGATE</td>\n      <td>15TH AVE NE / NE 95TH ST</td>\n      <td>-122.312078</td>\n      <td>47.697616</td>\n    </tr>\n    <tr>\n      <th>9</th>\n      <td>20200000044065</td>\n      <td>12605008517</td>\n      <td>2020-02-04 21:00:00</td>\n      <td>2020-02-04 21:47:00</td>\n      <td>PROPERTY</td>\n      <td>Theft From Motor Vehicle</td>\n      <td>23F</td>\n      <td>E</td>\n      <td>E</td>\n      <td>E2</td>\n      <td>CAPITOL HILL</td>\n      <td>15XX BLOCK OF 12TH AVE</td>\n      <td>-122.316845</td>\n      <td>47.614684</td>\n    </tr>\n  </tbody>\n</table>\n</div>"
     },
     "metadata": {},
     "execution_count": 197
    }
   ],
   "source": [
    "# df = pd.read_csv('data/Miriam VonAschen-Cook - Crime_Data.csv', nrows=10000)\n",
    "# C:\\Users\\annet\\Desktop\\DS4A\\spd_final_project\\spd-use-of-force_DS4A\\data\\Miriam VonAschen-Cook - Crime_Data.csv\n",
    "# df.head()\n",
    "\n",
    "# parse_dates=[] converts datatype to datetime\n",
    "df = pd.read_csv (r'C:\\Users\\annet\\Desktop\\DS4A\\spd_final_project\\spd-use-of-force_DS4A\\data\\Miriam VonAschen-Cook - Crime_Data.csv', parse_dates=['Offense Start DateTime', 'Report DateTime'], nrows=10000)\n",
    "df.head(10)  "
   ]
  },
  {
   "cell_type": "code",
   "execution_count": 198,
   "metadata": {},
   "outputs": [],
   "source": [
    "# CLEANING THE DATA\n",
    "df[\"Crime Against Category\"] = df[\"Crime Against Category\"].astype('category')\n",
    "df[\"Offense\"] = df[\"Offense\"].astype('category')\n",
    "df[\"NIBRS Offense Code\"] = df[\"NIBRS Offense Code\"].astype('category')\n",
    "df[\"Precinct\"] = df[\"Precinct\"].astype('category')\n",
    "df[\"Sector\"] = df[\"Sector\"].astype('category')\n",
    "df[\"Beat\"] = df[\"Beat\"].astype('category')"
   ]
  },
  {
   "cell_type": "code",
   "execution_count": 199,
   "metadata": {},
   "outputs": [
    {
     "output_type": "execute_result",
     "data": {
      "text/plain": [
       "GO                                 int64\n",
       "Offense ID                         int64\n",
       "Offense Start DateTime    datetime64[ns]\n",
       "Report DateTime           datetime64[ns]\n",
       "Crime Against Category          category\n",
       "Offense                         category\n",
       "NIBRS Offense Code              category\n",
       "Precinct                        category\n",
       "Sector                          category\n",
       "Beat                            category\n",
       "MCPP                              object\n",
       "100 Block Address                 object\n",
       "Longitude                        float64\n",
       "Latitude                         float64\n",
       "dtype: object"
      ]
     },
     "metadata": {},
     "execution_count": 199
    }
   ],
   "source": [
    "df.dtypes"
   ]
  },
  {
   "source": [
    "Where are the precincts/sectors/beats with the most instances of offenses?\n",
    "-What do the demographics of the population look like? (age, race, ethnicity, income)\n",
    "-What does the ratio of officers to population look like in these areas? (More policing in some areas...)\n",
    "-What are the most common languages spoken, literacy rate?"
   ],
   "cell_type": "markdown",
   "metadata": {}
  },
  {
   "cell_type": "code",
   "execution_count": 200,
   "metadata": {},
   "outputs": [
    {
     "output_type": "execute_result",
     "data": {
      "text/plain": [
       "2019-12-01 00:00:00    17\n",
       "2019-11-27 00:00:00    15\n",
       "2020-01-24 00:00:00    14\n",
       "2019-12-19 00:00:00    13\n",
       "2019-11-26 00:00:00    13\n",
       "                       ..\n",
       "2019-12-23 13:30:00     1\n",
       "2019-12-22 01:01:00     1\n",
       "2020-02-01 01:32:00     1\n",
       "2020-01-23 22:04:00     1\n",
       "2020-02-02 10:45:00     1\n",
       "Name: Offense Start DateTime, Length: 6976, dtype: int64"
      ]
     },
     "metadata": {},
     "execution_count": 200
    }
   ],
   "source": [
    "df['Offense Start DateTime'].value_counts().sort_values(ascending = False)\n",
    "# What happened on the days with most numbers of offenses?"
   ]
  },
  {
   "cell_type": "code",
   "execution_count": 201,
   "metadata": {},
   "outputs": [
    {
     "output_type": "execute_result",
     "data": {
      "text/plain": [
       "Index(['GO', 'Offense ID', 'Offense Start DateTime', 'Report DateTime',\n",
       "       'Crime Against Category', 'Offense', 'NIBRS Offense Code', 'Precinct',\n",
       "       'Sector', 'Beat', 'MCPP', '100 Block Address', 'Longitude', 'Latitude'],\n",
       "      dtype='object')"
      ]
     },
     "metadata": {},
     "execution_count": 201
    }
   ],
   "source": [
    "df.columns"
   ]
  },
  {
   "cell_type": "code",
   "execution_count": 202,
   "metadata": {},
   "outputs": [
    {
     "output_type": "execute_result",
     "data": {
      "text/plain": [
       "       Crime Against Category                   Offense NIBRS Offense Code  \\\n",
       "count                   10000                     10000              10000   \n",
       "unique                      3                        43                 43   \n",
       "top                  PROPERTY  Theft From Motor Vehicle                23F   \n",
       "freq                     9146                      2726               2726   \n",
       "\n",
       "       Precinct Sector   Beat                 MCPP      100 Block Address  \n",
       "count     10000  10000  10000                10000                   9728  \n",
       "unique        6     19     53                   58                   5321  \n",
       "top           N      U     U2  DOWNTOWN COMMERCIAL  14XX BLOCK OF 2ND AVE  \n",
       "freq       3254    955    334                  806                     52  "
      ],
      "text/html": "<div>\n<style scoped>\n    .dataframe tbody tr th:only-of-type {\n        vertical-align: middle;\n    }\n\n    .dataframe tbody tr th {\n        vertical-align: top;\n    }\n\n    .dataframe thead th {\n        text-align: right;\n    }\n</style>\n<table border=\"1\" class=\"dataframe\">\n  <thead>\n    <tr style=\"text-align: right;\">\n      <th></th>\n      <th>Crime Against Category</th>\n      <th>Offense</th>\n      <th>NIBRS Offense Code</th>\n      <th>Precinct</th>\n      <th>Sector</th>\n      <th>Beat</th>\n      <th>MCPP</th>\n      <th>100 Block Address</th>\n    </tr>\n  </thead>\n  <tbody>\n    <tr>\n      <th>count</th>\n      <td>10000</td>\n      <td>10000</td>\n      <td>10000</td>\n      <td>10000</td>\n      <td>10000</td>\n      <td>10000</td>\n      <td>10000</td>\n      <td>9728</td>\n    </tr>\n    <tr>\n      <th>unique</th>\n      <td>3</td>\n      <td>43</td>\n      <td>43</td>\n      <td>6</td>\n      <td>19</td>\n      <td>53</td>\n      <td>58</td>\n      <td>5321</td>\n    </tr>\n    <tr>\n      <th>top</th>\n      <td>PROPERTY</td>\n      <td>Theft From Motor Vehicle</td>\n      <td>23F</td>\n      <td>N</td>\n      <td>U</td>\n      <td>U2</td>\n      <td>DOWNTOWN COMMERCIAL</td>\n      <td>14XX BLOCK OF 2ND AVE</td>\n    </tr>\n    <tr>\n      <th>freq</th>\n      <td>9146</td>\n      <td>2726</td>\n      <td>2726</td>\n      <td>3254</td>\n      <td>955</td>\n      <td>334</td>\n      <td>806</td>\n      <td>52</td>\n    </tr>\n  </tbody>\n</table>\n</div>"
     },
     "metadata": {},
     "execution_count": 202
    }
   ],
   "source": [
    "df[['Crime Against Category', 'Offense', 'NIBRS Offense Code', 'Precinct','Sector', 'Beat', 'MCPP', '100 Block Address']].describe()"
   ]
  },
  {
   "cell_type": "code",
   "execution_count": 203,
   "metadata": {},
   "outputs": [
    {
     "output_type": "execute_result",
     "data": {
      "text/plain": [
       "Precinct  Offense                                      Crime Against Category\n",
       "N         Theft From Motor Vehicle                     PROPERTY                  1005\n",
       "W         Theft From Motor Vehicle                     PROPERTY                   767\n",
       "N         All Other Larceny                            PROPERTY                   511\n",
       "E         Theft From Motor Vehicle                     PROPERTY                   403\n",
       "W         All Other Larceny                            PROPERTY                   341\n",
       "N         Destruction/Damage/Vandalism of Property     PROPERTY                   332\n",
       "W         Destruction/Damage/Vandalism of Property     PROPERTY                   288\n",
       "SW        Theft From Motor Vehicle                     PROPERTY                   283\n",
       "N         Motor Vehicle Theft                          PROPERTY                   274\n",
       "S         Theft From Motor Vehicle                     PROPERTY                   267\n",
       "W         Theft From Building                          PROPERTY                   229\n",
       "N         Shoplifting                                  PROPERTY                   217\n",
       "E         All Other Larceny                            PROPERTY                   217\n",
       "W         Shoplifting                                  PROPERTY                   210\n",
       "S         All Other Larceny                            PROPERTY                   201\n",
       "SW        Motor Vehicle Theft                          PROPERTY                   187\n",
       "S         Motor Vehicle Theft                          PROPERTY                   182\n",
       "          Destruction/Damage/Vandalism of Property     PROPERTY                   174\n",
       "E         Destruction/Damage/Vandalism of Property     PROPERTY                   171\n",
       "SW        Destruction/Damage/Vandalism of Property     PROPERTY                   171\n",
       "          All Other Larceny                            PROPERTY                   163\n",
       "E         Theft From Building                          PROPERTY                   136\n",
       "N         Theft of Motor Vehicle Parts or Accessories  PROPERTY                   134\n",
       "          Theft From Building                          PROPERTY                   129\n",
       "W         Motor Vehicle Theft                          PROPERTY                   126\n",
       "E         Motor Vehicle Theft                          PROPERTY                   104\n",
       "W         Driving Under the Influence                  SOCIETY                     95\n",
       "N         Driving Under the Influence                  SOCIETY                     91\n",
       "W         Robbery                                      PROPERTY                    85\n",
       "E         Shoplifting                                  PROPERTY                    85\n",
       "N         Credit Card/Automated Teller Machine Fraud   PROPERTY                    84\n",
       "S         Shoplifting                                  PROPERTY                    81\n",
       "N         Identity Theft                               PROPERTY                    78\n",
       "S         Theft of Motor Vehicle Parts or Accessories  PROPERTY                    76\n",
       "E         Driving Under the Influence                  SOCIETY                     71\n",
       "N         False Pretenses/Swindle/Confidence Game      PROPERTY                    70\n",
       "          Robbery                                      PROPERTY                    70\n",
       "W         Drug/Narcotic Violations                     SOCIETY                     67\n",
       "          Credit Card/Automated Teller Machine Fraud   PROPERTY                    62\n",
       "SW        Theft From Building                          PROPERTY                    53\n",
       "S         Driving Under the Influence                  SOCIETY                     49\n",
       "W         False Pretenses/Swindle/Confidence Game      PROPERTY                    48\n",
       "S         Robbery                                      PROPERTY                    48\n",
       "SW        Shoplifting                                  PROPERTY                    48\n",
       "          Driving Under the Influence                  SOCIETY                     47\n",
       "W         Theft of Motor Vehicle Parts or Accessories  PROPERTY                    46\n",
       "SW        Theft of Motor Vehicle Parts or Accessories  PROPERTY                    46\n",
       "E         False Pretenses/Swindle/Confidence Game      PROPERTY                    44\n",
       "          Theft of Motor Vehicle Parts or Accessories  PROPERTY                    42\n",
       "W         Identity Theft                               PROPERTY                    42\n",
       "dtype: int64"
      ]
     },
     "metadata": {},
     "execution_count": 203
    }
   ],
   "source": [
    "# df[df['Precinct']=='U'][['Crime Against Category','Offense', 'MCPP']].groupby('Precinct').head()\n",
    "df[['Precinct',\"Offense\", 'Crime Against Category']].value_counts().sort_values(ascending = False).head(50)"
   ]
  },
  {
   "cell_type": "code",
   "execution_count": 204,
   "metadata": {},
   "outputs": [
    {
     "output_type": "execute_result",
     "data": {
      "text/plain": [
       "     Precinct   Sector     Beat                                      Offense  \\\n",
       "0           W        Q       Q1                     Drug/Narcotic Violations   \n",
       "1           N        J       J3  Theft of Motor Vehicle Parts or Accessories   \n",
       "2           N        U       U3                                      Robbery   \n",
       "3           W        Q       Q1     Destruction/Damage/Vandalism of Property   \n",
       "4           N        B       B2                  Driving Under the Influence   \n",
       "5           W        M       M1                                  Shoplifting   \n",
       "6           N        J       J3     Destruction/Damage/Vandalism of Property   \n",
       "7          SW        F       F2                                  Shoplifting   \n",
       "8           N        L       L2                  Driving Under the Influence   \n",
       "9           E        E       E2                     Theft From Motor Vehicle   \n",
       "10          E        E       E2                                  Shoplifting   \n",
       "11          N        U       U2                                   Wire Fraud   \n",
       "12          S        R       R3                          Theft From Building   \n",
       "13          S        R       R3                         Kidnapping/Abduction   \n",
       "14          S        R       R1                     Theft From Motor Vehicle   \n",
       "15          E        E       E1                       Counterfeiting/Forgery   \n",
       "16          E        E       E2                     Theft From Motor Vehicle   \n",
       "17          S        O       O3     Destruction/Damage/Vandalism of Property   \n",
       "18          N        U       U2                                  Shoplifting   \n",
       "19          W        Q       Q3                     Theft From Motor Vehicle   \n",
       "20          S        O       O2     Destruction/Damage/Vandalism of Property   \n",
       "21          W        K       K2                     Drug/Narcotic Violations   \n",
       "22          W        Q       Q3                            All Other Larceny   \n",
       "23          W        Q       Q2                     Theft From Motor Vehicle   \n",
       "24          E        C       C3                 Pornography/Obscene Material   \n",
       "25          E        C       C3                          Extortion/Blackmail   \n",
       "26          N        N       N2                                  Shoplifting   \n",
       "27          S        R       R1                     Theft From Motor Vehicle   \n",
       "28          S        R       R1                          Motor Vehicle Theft   \n",
       "29          N        U       U2                                  Shoplifting   \n",
       "30          E        G       G2                          Motor Vehicle Theft   \n",
       "31         SW        W       W2                            All Other Larceny   \n",
       "32          S        O       O2                          Theft From Building   \n",
       "33          W        K       K1                                      Robbery   \n",
       "34          N        B       B3  Theft of Motor Vehicle Parts or Accessories   \n",
       "35          W        M       M3                       Counterfeiting/Forgery   \n",
       "36         SW        W       W3                            All Other Larceny   \n",
       "37         SW        W       W1                     Theft From Motor Vehicle   \n",
       "38          W        K       K1                     Theft From Motor Vehicle   \n",
       "46          E        E       E2                                      Robbery   \n",
       "47          S        R       R3     Destruction/Damage/Vandalism of Property   \n",
       "49          E        G       G1                          Extortion/Blackmail   \n",
       "58         SW        W       W2                            All Other Larceny   \n",
       "60          E        E       E1                          Theft From Building   \n",
       "61          S        R       R2     Destruction/Damage/Vandalism of Property   \n",
       "63         SW        F       F3   Credit Card/Automated Teller Machine Fraud   \n",
       "69         SW        F       F2                     Theft From Motor Vehicle   \n",
       "84         SW        F       F1                                  Shoplifting   \n",
       "91         SW        W       W2                     Theft From Motor Vehicle   \n",
       "92         SW        W       W2                          Motor Vehicle Theft   \n",
       "4531  UNKNOWN       99       99                            All Other Larceny   \n",
       "5428  UNKNOWN       99       99                            All Other Larceny   \n",
       "7518  UNKNOWN  UNKNOWN  UNKNOWN                     Theft From Motor Vehicle   \n",
       "8329  UNKNOWN       99       99     Destruction/Damage/Vandalism of Property   \n",
       "8936  UNKNOWN       99       99                       Counterfeiting/Forgery   \n",
       "\n",
       "     Crime Against Category  \n",
       "0                   SOCIETY  \n",
       "1                  PROPERTY  \n",
       "2                  PROPERTY  \n",
       "3                  PROPERTY  \n",
       "4                   SOCIETY  \n",
       "5                  PROPERTY  \n",
       "6                  PROPERTY  \n",
       "7                  PROPERTY  \n",
       "8                   SOCIETY  \n",
       "9                  PROPERTY  \n",
       "10                 PROPERTY  \n",
       "11                 PROPERTY  \n",
       "12                 PROPERTY  \n",
       "13                   PERSON  \n",
       "14                 PROPERTY  \n",
       "15                 PROPERTY  \n",
       "16                 PROPERTY  \n",
       "17                 PROPERTY  \n",
       "18                 PROPERTY  \n",
       "19                 PROPERTY  \n",
       "20                 PROPERTY  \n",
       "21                  SOCIETY  \n",
       "22                 PROPERTY  \n",
       "23                 PROPERTY  \n",
       "24                  SOCIETY  \n",
       "25                 PROPERTY  \n",
       "26                 PROPERTY  \n",
       "27                 PROPERTY  \n",
       "28                 PROPERTY  \n",
       "29                 PROPERTY  \n",
       "30                 PROPERTY  \n",
       "31                 PROPERTY  \n",
       "32                 PROPERTY  \n",
       "33                 PROPERTY  \n",
       "34                 PROPERTY  \n",
       "35                 PROPERTY  \n",
       "36                 PROPERTY  \n",
       "37                 PROPERTY  \n",
       "38                 PROPERTY  \n",
       "46                 PROPERTY  \n",
       "47                 PROPERTY  \n",
       "49                 PROPERTY  \n",
       "58                 PROPERTY  \n",
       "60                 PROPERTY  \n",
       "61                 PROPERTY  \n",
       "63                 PROPERTY  \n",
       "69                 PROPERTY  \n",
       "84                 PROPERTY  \n",
       "91                 PROPERTY  \n",
       "92                 PROPERTY  \n",
       "4531               PROPERTY  \n",
       "5428               PROPERTY  \n",
       "7518               PROPERTY  \n",
       "8329               PROPERTY  \n",
       "8936               PROPERTY  "
      ],
      "text/html": "<div>\n<style scoped>\n    .dataframe tbody tr th:only-of-type {\n        vertical-align: middle;\n    }\n\n    .dataframe tbody tr th {\n        vertical-align: top;\n    }\n\n    .dataframe thead th {\n        text-align: right;\n    }\n</style>\n<table border=\"1\" class=\"dataframe\">\n  <thead>\n    <tr style=\"text-align: right;\">\n      <th></th>\n      <th>Precinct</th>\n      <th>Sector</th>\n      <th>Beat</th>\n      <th>Offense</th>\n      <th>Crime Against Category</th>\n    </tr>\n  </thead>\n  <tbody>\n    <tr>\n      <th>0</th>\n      <td>W</td>\n      <td>Q</td>\n      <td>Q1</td>\n      <td>Drug/Narcotic Violations</td>\n      <td>SOCIETY</td>\n    </tr>\n    <tr>\n      <th>1</th>\n      <td>N</td>\n      <td>J</td>\n      <td>J3</td>\n      <td>Theft of Motor Vehicle Parts or Accessories</td>\n      <td>PROPERTY</td>\n    </tr>\n    <tr>\n      <th>2</th>\n      <td>N</td>\n      <td>U</td>\n      <td>U3</td>\n      <td>Robbery</td>\n      <td>PROPERTY</td>\n    </tr>\n    <tr>\n      <th>3</th>\n      <td>W</td>\n      <td>Q</td>\n      <td>Q1</td>\n      <td>Destruction/Damage/Vandalism of Property</td>\n      <td>PROPERTY</td>\n    </tr>\n    <tr>\n      <th>4</th>\n      <td>N</td>\n      <td>B</td>\n      <td>B2</td>\n      <td>Driving Under the Influence</td>\n      <td>SOCIETY</td>\n    </tr>\n    <tr>\n      <th>5</th>\n      <td>W</td>\n      <td>M</td>\n      <td>M1</td>\n      <td>Shoplifting</td>\n      <td>PROPERTY</td>\n    </tr>\n    <tr>\n      <th>6</th>\n      <td>N</td>\n      <td>J</td>\n      <td>J3</td>\n      <td>Destruction/Damage/Vandalism of Property</td>\n      <td>PROPERTY</td>\n    </tr>\n    <tr>\n      <th>7</th>\n      <td>SW</td>\n      <td>F</td>\n      <td>F2</td>\n      <td>Shoplifting</td>\n      <td>PROPERTY</td>\n    </tr>\n    <tr>\n      <th>8</th>\n      <td>N</td>\n      <td>L</td>\n      <td>L2</td>\n      <td>Driving Under the Influence</td>\n      <td>SOCIETY</td>\n    </tr>\n    <tr>\n      <th>9</th>\n      <td>E</td>\n      <td>E</td>\n      <td>E2</td>\n      <td>Theft From Motor Vehicle</td>\n      <td>PROPERTY</td>\n    </tr>\n    <tr>\n      <th>10</th>\n      <td>E</td>\n      <td>E</td>\n      <td>E2</td>\n      <td>Shoplifting</td>\n      <td>PROPERTY</td>\n    </tr>\n    <tr>\n      <th>11</th>\n      <td>N</td>\n      <td>U</td>\n      <td>U2</td>\n      <td>Wire Fraud</td>\n      <td>PROPERTY</td>\n    </tr>\n    <tr>\n      <th>12</th>\n      <td>S</td>\n      <td>R</td>\n      <td>R3</td>\n      <td>Theft From Building</td>\n      <td>PROPERTY</td>\n    </tr>\n    <tr>\n      <th>13</th>\n      <td>S</td>\n      <td>R</td>\n      <td>R3</td>\n      <td>Kidnapping/Abduction</td>\n      <td>PERSON</td>\n    </tr>\n    <tr>\n      <th>14</th>\n      <td>S</td>\n      <td>R</td>\n      <td>R1</td>\n      <td>Theft From Motor Vehicle</td>\n      <td>PROPERTY</td>\n    </tr>\n    <tr>\n      <th>15</th>\n      <td>E</td>\n      <td>E</td>\n      <td>E1</td>\n      <td>Counterfeiting/Forgery</td>\n      <td>PROPERTY</td>\n    </tr>\n    <tr>\n      <th>16</th>\n      <td>E</td>\n      <td>E</td>\n      <td>E2</td>\n      <td>Theft From Motor Vehicle</td>\n      <td>PROPERTY</td>\n    </tr>\n    <tr>\n      <th>17</th>\n      <td>S</td>\n      <td>O</td>\n      <td>O3</td>\n      <td>Destruction/Damage/Vandalism of Property</td>\n      <td>PROPERTY</td>\n    </tr>\n    <tr>\n      <th>18</th>\n      <td>N</td>\n      <td>U</td>\n      <td>U2</td>\n      <td>Shoplifting</td>\n      <td>PROPERTY</td>\n    </tr>\n    <tr>\n      <th>19</th>\n      <td>W</td>\n      <td>Q</td>\n      <td>Q3</td>\n      <td>Theft From Motor Vehicle</td>\n      <td>PROPERTY</td>\n    </tr>\n    <tr>\n      <th>20</th>\n      <td>S</td>\n      <td>O</td>\n      <td>O2</td>\n      <td>Destruction/Damage/Vandalism of Property</td>\n      <td>PROPERTY</td>\n    </tr>\n    <tr>\n      <th>21</th>\n      <td>W</td>\n      <td>K</td>\n      <td>K2</td>\n      <td>Drug/Narcotic Violations</td>\n      <td>SOCIETY</td>\n    </tr>\n    <tr>\n      <th>22</th>\n      <td>W</td>\n      <td>Q</td>\n      <td>Q3</td>\n      <td>All Other Larceny</td>\n      <td>PROPERTY</td>\n    </tr>\n    <tr>\n      <th>23</th>\n      <td>W</td>\n      <td>Q</td>\n      <td>Q2</td>\n      <td>Theft From Motor Vehicle</td>\n      <td>PROPERTY</td>\n    </tr>\n    <tr>\n      <th>24</th>\n      <td>E</td>\n      <td>C</td>\n      <td>C3</td>\n      <td>Pornography/Obscene Material</td>\n      <td>SOCIETY</td>\n    </tr>\n    <tr>\n      <th>25</th>\n      <td>E</td>\n      <td>C</td>\n      <td>C3</td>\n      <td>Extortion/Blackmail</td>\n      <td>PROPERTY</td>\n    </tr>\n    <tr>\n      <th>26</th>\n      <td>N</td>\n      <td>N</td>\n      <td>N2</td>\n      <td>Shoplifting</td>\n      <td>PROPERTY</td>\n    </tr>\n    <tr>\n      <th>27</th>\n      <td>S</td>\n      <td>R</td>\n      <td>R1</td>\n      <td>Theft From Motor Vehicle</td>\n      <td>PROPERTY</td>\n    </tr>\n    <tr>\n      <th>28</th>\n      <td>S</td>\n      <td>R</td>\n      <td>R1</td>\n      <td>Motor Vehicle Theft</td>\n      <td>PROPERTY</td>\n    </tr>\n    <tr>\n      <th>29</th>\n      <td>N</td>\n      <td>U</td>\n      <td>U2</td>\n      <td>Shoplifting</td>\n      <td>PROPERTY</td>\n    </tr>\n    <tr>\n      <th>30</th>\n      <td>E</td>\n      <td>G</td>\n      <td>G2</td>\n      <td>Motor Vehicle Theft</td>\n      <td>PROPERTY</td>\n    </tr>\n    <tr>\n      <th>31</th>\n      <td>SW</td>\n      <td>W</td>\n      <td>W2</td>\n      <td>All Other Larceny</td>\n      <td>PROPERTY</td>\n    </tr>\n    <tr>\n      <th>32</th>\n      <td>S</td>\n      <td>O</td>\n      <td>O2</td>\n      <td>Theft From Building</td>\n      <td>PROPERTY</td>\n    </tr>\n    <tr>\n      <th>33</th>\n      <td>W</td>\n      <td>K</td>\n      <td>K1</td>\n      <td>Robbery</td>\n      <td>PROPERTY</td>\n    </tr>\n    <tr>\n      <th>34</th>\n      <td>N</td>\n      <td>B</td>\n      <td>B3</td>\n      <td>Theft of Motor Vehicle Parts or Accessories</td>\n      <td>PROPERTY</td>\n    </tr>\n    <tr>\n      <th>35</th>\n      <td>W</td>\n      <td>M</td>\n      <td>M3</td>\n      <td>Counterfeiting/Forgery</td>\n      <td>PROPERTY</td>\n    </tr>\n    <tr>\n      <th>36</th>\n      <td>SW</td>\n      <td>W</td>\n      <td>W3</td>\n      <td>All Other Larceny</td>\n      <td>PROPERTY</td>\n    </tr>\n    <tr>\n      <th>37</th>\n      <td>SW</td>\n      <td>W</td>\n      <td>W1</td>\n      <td>Theft From Motor Vehicle</td>\n      <td>PROPERTY</td>\n    </tr>\n    <tr>\n      <th>38</th>\n      <td>W</td>\n      <td>K</td>\n      <td>K1</td>\n      <td>Theft From Motor Vehicle</td>\n      <td>PROPERTY</td>\n    </tr>\n    <tr>\n      <th>46</th>\n      <td>E</td>\n      <td>E</td>\n      <td>E2</td>\n      <td>Robbery</td>\n      <td>PROPERTY</td>\n    </tr>\n    <tr>\n      <th>47</th>\n      <td>S</td>\n      <td>R</td>\n      <td>R3</td>\n      <td>Destruction/Damage/Vandalism of Property</td>\n      <td>PROPERTY</td>\n    </tr>\n    <tr>\n      <th>49</th>\n      <td>E</td>\n      <td>G</td>\n      <td>G1</td>\n      <td>Extortion/Blackmail</td>\n      <td>PROPERTY</td>\n    </tr>\n    <tr>\n      <th>58</th>\n      <td>SW</td>\n      <td>W</td>\n      <td>W2</td>\n      <td>All Other Larceny</td>\n      <td>PROPERTY</td>\n    </tr>\n    <tr>\n      <th>60</th>\n      <td>E</td>\n      <td>E</td>\n      <td>E1</td>\n      <td>Theft From Building</td>\n      <td>PROPERTY</td>\n    </tr>\n    <tr>\n      <th>61</th>\n      <td>S</td>\n      <td>R</td>\n      <td>R2</td>\n      <td>Destruction/Damage/Vandalism of Property</td>\n      <td>PROPERTY</td>\n    </tr>\n    <tr>\n      <th>63</th>\n      <td>SW</td>\n      <td>F</td>\n      <td>F3</td>\n      <td>Credit Card/Automated Teller Machine Fraud</td>\n      <td>PROPERTY</td>\n    </tr>\n    <tr>\n      <th>69</th>\n      <td>SW</td>\n      <td>F</td>\n      <td>F2</td>\n      <td>Theft From Motor Vehicle</td>\n      <td>PROPERTY</td>\n    </tr>\n    <tr>\n      <th>84</th>\n      <td>SW</td>\n      <td>F</td>\n      <td>F1</td>\n      <td>Shoplifting</td>\n      <td>PROPERTY</td>\n    </tr>\n    <tr>\n      <th>91</th>\n      <td>SW</td>\n      <td>W</td>\n      <td>W2</td>\n      <td>Theft From Motor Vehicle</td>\n      <td>PROPERTY</td>\n    </tr>\n    <tr>\n      <th>92</th>\n      <td>SW</td>\n      <td>W</td>\n      <td>W2</td>\n      <td>Motor Vehicle Theft</td>\n      <td>PROPERTY</td>\n    </tr>\n    <tr>\n      <th>4531</th>\n      <td>UNKNOWN</td>\n      <td>99</td>\n      <td>99</td>\n      <td>All Other Larceny</td>\n      <td>PROPERTY</td>\n    </tr>\n    <tr>\n      <th>5428</th>\n      <td>UNKNOWN</td>\n      <td>99</td>\n      <td>99</td>\n      <td>All Other Larceny</td>\n      <td>PROPERTY</td>\n    </tr>\n    <tr>\n      <th>7518</th>\n      <td>UNKNOWN</td>\n      <td>UNKNOWN</td>\n      <td>UNKNOWN</td>\n      <td>Theft From Motor Vehicle</td>\n      <td>PROPERTY</td>\n    </tr>\n    <tr>\n      <th>8329</th>\n      <td>UNKNOWN</td>\n      <td>99</td>\n      <td>99</td>\n      <td>Destruction/Damage/Vandalism of Property</td>\n      <td>PROPERTY</td>\n    </tr>\n    <tr>\n      <th>8936</th>\n      <td>UNKNOWN</td>\n      <td>99</td>\n      <td>99</td>\n      <td>Counterfeiting/Forgery</td>\n      <td>PROPERTY</td>\n    </tr>\n  </tbody>\n</table>\n</div>"
     },
     "metadata": {},
     "execution_count": 204
    }
   ],
   "source": [
    "# df[['Precinct',\"Offense\", 'Crime Against Category']].value_counts().sort_values(ascending = False).head(50)\n",
    "df[['Precinct','Sector','Beat', \"Offense\", 'Crime Against Category']].groupby(['Precinct']).head(10)"
   ]
  },
  {
   "cell_type": "code",
   "execution_count": 205,
   "metadata": {},
   "outputs": [
    {
     "output_type": "execute_result",
     "data": {
      "text/plain": [
       "     Precinct Sector                                  Offense  \\\n",
       "0           W      Q                 Drug/Narcotic Violations   \n",
       "2141        W      M                 Theft From Motor Vehicle   \n",
       "5912        W      Q                           Identity Theft   \n",
       "5910        W      Q                 Theft From Motor Vehicle   \n",
       "5908        W      D                      Theft From Building   \n",
       "2133        W      K                 Stolen Property Offenses   \n",
       "5906        W      K                        All Other Larceny   \n",
       "5900        W      M                 Stolen Property Offenses   \n",
       "5899        W      M                 Drug/Narcotic Violations   \n",
       "5895        W      M  False Pretenses/Swindle/Confidence Game   \n",
       "\n",
       "     Crime Against Category  \n",
       "0                   SOCIETY  \n",
       "2141               PROPERTY  \n",
       "5912               PROPERTY  \n",
       "5910               PROPERTY  \n",
       "5908               PROPERTY  \n",
       "2133               PROPERTY  \n",
       "5906               PROPERTY  \n",
       "5900               PROPERTY  \n",
       "5899                SOCIETY  \n",
       "5895               PROPERTY  "
      ],
      "text/html": "<div>\n<style scoped>\n    .dataframe tbody tr th:only-of-type {\n        vertical-align: middle;\n    }\n\n    .dataframe tbody tr th {\n        vertical-align: top;\n    }\n\n    .dataframe thead th {\n        text-align: right;\n    }\n</style>\n<table border=\"1\" class=\"dataframe\">\n  <thead>\n    <tr style=\"text-align: right;\">\n      <th></th>\n      <th>Precinct</th>\n      <th>Sector</th>\n      <th>Offense</th>\n      <th>Crime Against Category</th>\n    </tr>\n  </thead>\n  <tbody>\n    <tr>\n      <th>0</th>\n      <td>W</td>\n      <td>Q</td>\n      <td>Drug/Narcotic Violations</td>\n      <td>SOCIETY</td>\n    </tr>\n    <tr>\n      <th>2141</th>\n      <td>W</td>\n      <td>M</td>\n      <td>Theft From Motor Vehicle</td>\n      <td>PROPERTY</td>\n    </tr>\n    <tr>\n      <th>5912</th>\n      <td>W</td>\n      <td>Q</td>\n      <td>Identity Theft</td>\n      <td>PROPERTY</td>\n    </tr>\n    <tr>\n      <th>5910</th>\n      <td>W</td>\n      <td>Q</td>\n      <td>Theft From Motor Vehicle</td>\n      <td>PROPERTY</td>\n    </tr>\n    <tr>\n      <th>5908</th>\n      <td>W</td>\n      <td>D</td>\n      <td>Theft From Building</td>\n      <td>PROPERTY</td>\n    </tr>\n    <tr>\n      <th>2133</th>\n      <td>W</td>\n      <td>K</td>\n      <td>Stolen Property Offenses</td>\n      <td>PROPERTY</td>\n    </tr>\n    <tr>\n      <th>5906</th>\n      <td>W</td>\n      <td>K</td>\n      <td>All Other Larceny</td>\n      <td>PROPERTY</td>\n    </tr>\n    <tr>\n      <th>5900</th>\n      <td>W</td>\n      <td>M</td>\n      <td>Stolen Property Offenses</td>\n      <td>PROPERTY</td>\n    </tr>\n    <tr>\n      <th>5899</th>\n      <td>W</td>\n      <td>M</td>\n      <td>Drug/Narcotic Violations</td>\n      <td>SOCIETY</td>\n    </tr>\n    <tr>\n      <th>5895</th>\n      <td>W</td>\n      <td>M</td>\n      <td>False Pretenses/Swindle/Confidence Game</td>\n      <td>PROPERTY</td>\n    </tr>\n  </tbody>\n</table>\n</div>"
     },
     "metadata": {},
     "execution_count": 205
    }
   ],
   "source": [
    "# by='col1', ascending=False, na_position='first'\n",
    "df[['Precinct', 'Sector',\"Offense\", 'Crime Against Category']].sort_values(by='Precinct',ascending = False).head(10)"
   ]
  },
  {
   "cell_type": "code",
   "execution_count": null,
   "metadata": {},
   "outputs": [],
   "source": []
  }
 ],
 "metadata": {
  "kernelspec": {
   "name": "python3",
   "display_name": "Python 3.8.8 64-bit (conda)"
  },
  "interpreter": {
   "hash": "06f88ab10fd6951263b3d8e97f17256118f007e1c867c6f02cc08400ea184c4c"
  }
 },
 "nbformat": 4,
 "nbformat_minor": 4
}