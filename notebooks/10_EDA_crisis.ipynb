{
 "cells": [
  {
   "cell_type": "code",
   "execution_count": 2,
   "metadata": {},
   "outputs": [],
   "source": [
    "import pandas as pd\n",
    "import matplotlib as plt"
   ]
  },
  {
   "cell_type": "code",
   "execution_count": 3,
   "metadata": {},
   "outputs": [],
   "source": [
    "\n",
    "df = pd.read_excel('../data/raw/Miriam VonAschen-Cook - Crisis Report Preliminary Data.xlsx')\n",
    "# ../data_folder/data.csv"
   ]
  },
  {
   "cell_type": "code",
   "execution_count": 3,
   "metadata": {},
   "outputs": [
    {
     "output_type": "execute_result",
     "data": {
      "text/plain": [
       "  Reported Date  Behavioral Crisis Num    CAD Event ID  \\\n",
       "0    2015-05-15                  43469  20150000159320   \n",
       "1    2015-05-15                  43479  20150000159806   \n",
       "2    2015-05-15                  43653  20150000159907   \n",
       "3    2015-05-15                  43662  20150000160039   \n",
       "4    2015-05-16                  43719  20150000160408   \n",
       "\n",
       "                      Disposition         Exhibiting Behavior (group)  \\\n",
       "0              Mobile Crisis Team  Behavior – Disorderly / Disruptive   \n",
       "1        Emergent Detention / ITA  Behavior – Disorderly / Disruptive   \n",
       "2  No Action Possible / Necessary                                   -   \n",
       "3  No Action Possible / Necessary  Behavior – Disorderly / Disruptive   \n",
       "4               Unable to Contact                                   -   \n",
       "\n",
       "  Offense/Incident Ind Techniques Used UoF Indicator Weapons Involved  \n",
       "0                    -               -             N                -  \n",
       "1                    -               -             N                -  \n",
       "2                    -               -             N                -  \n",
       "3                    -               -             N                -  \n",
       "4                    -               -             N                -  "
      ],
      "text/html": "<div>\n<style scoped>\n    .dataframe tbody tr th:only-of-type {\n        vertical-align: middle;\n    }\n\n    .dataframe tbody tr th {\n        vertical-align: top;\n    }\n\n    .dataframe thead th {\n        text-align: right;\n    }\n</style>\n<table border=\"1\" class=\"dataframe\">\n  <thead>\n    <tr style=\"text-align: right;\">\n      <th></th>\n      <th>Reported Date</th>\n      <th>Behavioral Crisis Num</th>\n      <th>CAD Event ID</th>\n      <th>Disposition</th>\n      <th>Exhibiting Behavior (group)</th>\n      <th>Offense/Incident Ind</th>\n      <th>Techniques Used</th>\n      <th>UoF Indicator</th>\n      <th>Weapons Involved</th>\n    </tr>\n  </thead>\n  <tbody>\n    <tr>\n      <th>0</th>\n      <td>2015-05-15</td>\n      <td>43469</td>\n      <td>20150000159320</td>\n      <td>Mobile Crisis Team</td>\n      <td>Behavior – Disorderly / Disruptive</td>\n      <td>-</td>\n      <td>-</td>\n      <td>N</td>\n      <td>-</td>\n    </tr>\n    <tr>\n      <th>1</th>\n      <td>2015-05-15</td>\n      <td>43479</td>\n      <td>20150000159806</td>\n      <td>Emergent Detention / ITA</td>\n      <td>Behavior – Disorderly / Disruptive</td>\n      <td>-</td>\n      <td>-</td>\n      <td>N</td>\n      <td>-</td>\n    </tr>\n    <tr>\n      <th>2</th>\n      <td>2015-05-15</td>\n      <td>43653</td>\n      <td>20150000159907</td>\n      <td>No Action Possible / Necessary</td>\n      <td>-</td>\n      <td>-</td>\n      <td>-</td>\n      <td>N</td>\n      <td>-</td>\n    </tr>\n    <tr>\n      <th>3</th>\n      <td>2015-05-15</td>\n      <td>43662</td>\n      <td>20150000160039</td>\n      <td>No Action Possible / Necessary</td>\n      <td>Behavior – Disorderly / Disruptive</td>\n      <td>-</td>\n      <td>-</td>\n      <td>N</td>\n      <td>-</td>\n    </tr>\n    <tr>\n      <th>4</th>\n      <td>2015-05-16</td>\n      <td>43719</td>\n      <td>20150000160408</td>\n      <td>Unable to Contact</td>\n      <td>-</td>\n      <td>-</td>\n      <td>-</td>\n      <td>N</td>\n      <td>-</td>\n    </tr>\n  </tbody>\n</table>\n</div>"
     },
     "metadata": {},
     "execution_count": 3
    }
   ],
   "source": [
    "df.head()"
   ]
  },
  {
   "source": [
    "df.dtypes"
   ],
   "cell_type": "code",
   "metadata": {},
   "execution_count": 4,
   "outputs": [
    {
     "output_type": "execute_result",
     "data": {
      "text/plain": [
       "Reported Date                  datetime64[ns]\n",
       "Behavioral Crisis Num                   int64\n",
       "CAD Event ID                            int64\n",
       "Disposition                            object\n",
       "Exhibiting Behavior (group)            object\n",
       "Offense/Incident Ind                   object\n",
       "Techniques Used                        object\n",
       "UoF Indicator                          object\n",
       "Weapons Involved                       object\n",
       "dtype: object"
      ]
     },
     "metadata": {},
     "execution_count": 4
    }
   ]
  },
  {
   "cell_type": "code",
   "execution_count": 5,
   "metadata": {},
   "outputs": [
    {
     "output_type": "execute_result",
     "data": {
      "text/plain": [
       "Index(['Reported Date', 'Behavioral Crisis Num', 'CAD Event ID', 'Disposition',\n",
       "       'Exhibiting Behavior (group)', 'Offense/Incident Ind',\n",
       "       'Techniques Used', 'UoF Indicator', 'Weapons Involved'],\n",
       "      dtype='object')"
      ]
     },
     "metadata": {},
     "execution_count": 5
    }
   ],
   "source": [
    "df.columns"
   ]
  },
  {
   "cell_type": "code",
   "execution_count": 6,
   "metadata": {},
   "outputs": [
    {
     "output_type": "execute_result",
     "data": {
      "text/plain": [
       "array(['Behavior – Disorderly / Disruptive', '-',\n",
       "       'Behavior – Neglect / Self care',\n",
       "       'Behavior – Suicide Threat / Attempt',\n",
       "       'Behavior – Unusually frightened / Scared',\n",
       "       'Behavior – Belligerent / Uncooperative', 'Behavior – Other',\n",
       "       'Behavior – Hallucinations / Delusions', 'Behavior – Paranoid',\n",
       "       'Behavior – Out of touch with reality',\n",
       "       'Behavior – Suicide by Cop (SbC)',\n",
       "       'Behavior – Disorientation / Confusion',\n",
       "       'Behavior – Bizarre / Unusual',\n",
       "       'Behavior – Physically threatening / Aggressive',\n",
       "       'Behavior – Disorganized speech / Communication',\n",
       "       'Behavior – Hopeless / Depressed \\xa0\\xa0\\xa0\\xa0\\xa0\\xa0\\xa0\\xa0\\xa0\\xa0\\xa0',\n",
       "       'Behavior – Manic', 'Behavior – Verbally threatening / Aggressive',\n",
       "       'Behavior – Cooperative / Attentive'], dtype=object)"
      ]
     },
     "metadata": {},
     "execution_count": 6
    }
   ],
   "source": [
    "df['Exhibiting Behavior (group)'].unique()"
   ]
  },
  {
   "cell_type": "code",
   "execution_count": 9,
   "metadata": {},
   "outputs": [
    {
     "output_type": "stream",
     "name": "stderr",
     "text": [
      "<ipython-input-9-ffd2d72bc747>:1: FutureWarning: The default value of regex will change from True to False in a future version.\n  df.loc[:,df.dtypes == object] = df.loc[:,df.dtypes == object].apply(lambda x: x.str.strip().str.replace('#NAME?', '-'))\n"
     ]
    }
   ],
   "source": [
    "df.loc[:,df.dtypes == object] = df.loc[:,df.dtypes == object].apply(lambda x: x.str.strip().str.replace('#NAME?', '-'))\n"
   ]
  },
  {
   "cell_type": "code",
   "execution_count": 7,
   "metadata": {},
   "outputs": [],
   "source": [
    "df['Disposition'] = df['Disposition'].str.upper().str.replace (\" / \", \"/\", regex = True)\n",
    "df['Exhibiting Behavior (group)'] = df['Exhibiting Behavior (group)'].str.upper().str.replace (\"BEHAVIOR – \", \"\", regex = True)\n",
    "df['Exhibiting Behavior (group)'] = df['Exhibiting Behavior (group)'].str.replace (\" / \", \"/\", regex = True)\n",
    "df['Exhibiting Behavior (group)'] = df['Exhibiting Behavior (group)'].str.replace (\"\\xa0\", \"\", regex = True)\n",
    "df['Offense/Incident Ind'] = df['Offense/Incident Ind'].str.upper()\n",
    "df['Techniques Used'] = df['Techniques Used'].str.upper()\n",
    "df['UoF Indicator'] = df['UoF Indicator'].str.replace (\"N\", \"NO\", regex = True)\n",
    "df['UoF Indicator'] = df['UoF Indicator'].str.replace (\"Y\", \"YES\", regex = True)\n",
    "df[\"Weapons Involved\"] = df[\"Weapons Involved\"].str.upper()\n",
    "df['Weapons Involved'] = df['Weapons Involved'].str.replace(\"HANDGUN\", \"FIREARM\", regex = True)\n",
    "df['Weapons Involved'] = df['Weapons Involved'].str.replace (\"RIFLE\", \"FIREARM\", regex = True)\n",
    "df['Weapons Involved'] = df['Weapons Involved'].str.replace (\"SHOTGUN\", \"FIREARM\", regex = True)\n",
    "df['Weapons Involved'] = df['Weapons Involved'].str.replace (\"OTHER FIREARM\", \"FIREARM\", regex = True)"
   ]
  },
  {
   "cell_type": "code",
   "execution_count": 10,
   "metadata": {},
   "outputs": [
    {
     "output_type": "execute_result",
     "data": {
      "text/plain": [
       "  Reported Date  Behavioral Crisis Num    CAD Event ID  \\\n",
       "0    2015-05-15                  43469  20150000159320   \n",
       "1    2015-05-15                  43479  20150000159806   \n",
       "2    2015-05-15                  43653  20150000159907   \n",
       "3    2015-05-15                  43662  20150000160039   \n",
       "4    2015-05-16                  43719  20150000160408   \n",
       "\n",
       "                    Disposition Exhibiting Behavior (group)  \\\n",
       "0            MOBILE CRISIS TEAM       DISORDERLY/DISRUPTIVE   \n",
       "1        EMERGENT DETENTION/ITA       DISORDERLY/DISRUPTIVE   \n",
       "2  NO ACTION POSSIBLE/NECESSARY                           -   \n",
       "3  NO ACTION POSSIBLE/NECESSARY       DISORDERLY/DISRUPTIVE   \n",
       "4             UNABLE TO CONTACT                           -   \n",
       "\n",
       "  Offense/Incident Ind Techniques Used UoF Indicator Weapons Involved  \n",
       "0                    -               -            NO                -  \n",
       "1                    -               -            NO                -  \n",
       "2                    -               -            NO                -  \n",
       "3                    -               -            NO                -  \n",
       "4                    -               -            NO                -  "
      ],
      "text/html": "<div>\n<style scoped>\n    .dataframe tbody tr th:only-of-type {\n        vertical-align: middle;\n    }\n\n    .dataframe tbody tr th {\n        vertical-align: top;\n    }\n\n    .dataframe thead th {\n        text-align: right;\n    }\n</style>\n<table border=\"1\" class=\"dataframe\">\n  <thead>\n    <tr style=\"text-align: right;\">\n      <th></th>\n      <th>Reported Date</th>\n      <th>Behavioral Crisis Num</th>\n      <th>CAD Event ID</th>\n      <th>Disposition</th>\n      <th>Exhibiting Behavior (group)</th>\n      <th>Offense/Incident Ind</th>\n      <th>Techniques Used</th>\n      <th>UoF Indicator</th>\n      <th>Weapons Involved</th>\n    </tr>\n  </thead>\n  <tbody>\n    <tr>\n      <th>0</th>\n      <td>2015-05-15</td>\n      <td>43469</td>\n      <td>20150000159320</td>\n      <td>MOBILE CRISIS TEAM</td>\n      <td>DISORDERLY/DISRUPTIVE</td>\n      <td>-</td>\n      <td>-</td>\n      <td>NO</td>\n      <td>-</td>\n    </tr>\n    <tr>\n      <th>1</th>\n      <td>2015-05-15</td>\n      <td>43479</td>\n      <td>20150000159806</td>\n      <td>EMERGENT DETENTION/ITA</td>\n      <td>DISORDERLY/DISRUPTIVE</td>\n      <td>-</td>\n      <td>-</td>\n      <td>NO</td>\n      <td>-</td>\n    </tr>\n    <tr>\n      <th>2</th>\n      <td>2015-05-15</td>\n      <td>43653</td>\n      <td>20150000159907</td>\n      <td>NO ACTION POSSIBLE/NECESSARY</td>\n      <td>-</td>\n      <td>-</td>\n      <td>-</td>\n      <td>NO</td>\n      <td>-</td>\n    </tr>\n    <tr>\n      <th>3</th>\n      <td>2015-05-15</td>\n      <td>43662</td>\n      <td>20150000160039</td>\n      <td>NO ACTION POSSIBLE/NECESSARY</td>\n      <td>DISORDERLY/DISRUPTIVE</td>\n      <td>-</td>\n      <td>-</td>\n      <td>NO</td>\n      <td>-</td>\n    </tr>\n    <tr>\n      <th>4</th>\n      <td>2015-05-16</td>\n      <td>43719</td>\n      <td>20150000160408</td>\n      <td>UNABLE TO CONTACT</td>\n      <td>-</td>\n      <td>-</td>\n      <td>-</td>\n      <td>NO</td>\n      <td>-</td>\n    </tr>\n  </tbody>\n</table>\n</div>"
     },
     "metadata": {},
     "execution_count": 10
    }
   ],
   "source": [
    "df.head()"
   ]
  }
 ],
 "metadata": {
  "kernelspec": {
   "name": "python3",
   "display_name": "Python 3.9.2 64-bit"
  },
  "language_info": {
   "codemirror_mode": {
    "name": "ipython",
    "version": 3
   },
   "file_extension": ".py",
   "mimetype": "text/x-python",
   "name": "python",
   "nbconvert_exporter": "python",
   "pygments_lexer": "ipython3",
   "version": "3.9.2"
  },
  "interpreter": {
   "hash": "e926bc222df3fe4884a4a70ef695126d4714e0efa741fe10ef5a3b6040587bbe"
  }
 },
 "nbformat": 4,
 "nbformat_minor": 4
}