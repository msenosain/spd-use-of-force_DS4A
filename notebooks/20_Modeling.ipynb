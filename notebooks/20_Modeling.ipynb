{
 "cells": [
  {
   "cell_type": "code",
   "execution_count": 1,
   "metadata": {},
   "outputs": [],
   "source": [
    "import pandas as pd\n",
    "import matplotlib.pyplot as plt\n",
    "import seaborn as sns\n",
    "import json\n",
    "import numpy as np\n",
    "import base64\n",
    "import os\n",
    "from tqdm import tqdm\n",
    "from sklearn.model_selection import train_test_split\n",
    "from sklearn import model_selection\n",
    "from sklearn.ensemble import RandomForestClassifier\n",
    "from sklearn.model_selection import cross_val_score\n",
    "from sklearn.model_selection import GridSearchCV\n",
    "from sklearn.metrics import classification_report, confusion_matrix\n",
    "from sklearn.inspection import permutation_importance\n",
    "import shap\n",
    "from statannot import add_stat_annotation\n",
    "from xgboost.sklearn import XGBClassifier\n",
    "from sklearn.metrics import roc_auc_score"
   ]
  },
  {
   "cell_type": "code",
   "execution_count": 2,
   "metadata": {},
   "outputs": [],
   "source": [
    "df = pd.read_csv(\"../data/processed/MVA_cleaned_merged.csv\")"
   ]
  },
  {
   "cell_type": "code",
   "execution_count": 3,
   "metadata": {},
   "outputs": [
    {
     "data": {
      "text/html": [
       "<div>\n",
       "<style scoped>\n",
       "    .dataframe tbody tr th:only-of-type {\n",
       "        vertical-align: middle;\n",
       "    }\n",
       "\n",
       "    .dataframe tbody tr th {\n",
       "        vertical-align: top;\n",
       "    }\n",
       "\n",
       "    .dataframe thead th {\n",
       "        text-align: right;\n",
       "    }\n",
       "</style>\n",
       "<table border=\"1\" class=\"dataframe\">\n",
       "  <thead>\n",
       "    <tr style=\"text-align: right;\">\n",
       "      <th></th>\n",
       "      <th>Behavioral Crisis Num</th>\n",
       "      <th>CAD Event ID</th>\n",
       "      <th>Disposition</th>\n",
       "      <th>Exhibiting Behavior (group)</th>\n",
       "      <th>Subject Age</th>\n",
       "      <th>Techniques Used</th>\n",
       "      <th>UoF Indicator</th>\n",
       "      <th>Weapons Involved</th>\n",
       "      <th>Reported Date</th>\n",
       "      <th>Officer Serial Num</th>\n",
       "      <th>As_On_Officer Precinct_Desc</th>\n",
       "      <th>Call Priority Code</th>\n",
       "      <th>GO Num</th>\n",
       "      <th>First Dispatch Time</th>\n",
       "      <th>Total Service Time</th>\n",
       "      <th>Precinct</th>\n",
       "      <th>Sector</th>\n",
       "      <th>Beat</th>\n",
       "      <th>Blurred_Latitude</th>\n",
       "      <th>Blurred_Longitude</th>\n",
       "      <th>Year</th>\n",
       "      <th>First Dispatch Year</th>\n",
       "      <th>First Dispatch Month</th>\n",
       "      <th>First Dispatch Weekday</th>\n",
       "      <th>First Dispatch Hour</th>\n",
       "      <th>Clear Year</th>\n",
       "      <th>Clear Month</th>\n",
       "      <th>Clear Weekday</th>\n",
       "      <th>Clear Hour</th>\n",
       "      <th>CIT Certified Ind</th>\n",
       "      <th>Incident Type</th>\n",
       "      <th>Officer Gender</th>\n",
       "      <th>Officer Race</th>\n",
       "      <th>Subject Gender</th>\n",
       "      <th>Subject Race</th>\n",
       "    </tr>\n",
       "  </thead>\n",
       "  <tbody>\n",
       "    <tr>\n",
       "      <th>0</th>\n",
       "      <td>43653</td>\n",
       "      <td>20150000159907</td>\n",
       "      <td>NO ACTION POSSIBLE/NECESSARY/UNABLE TO CONTACT</td>\n",
       "      <td>-</td>\n",
       "      <td>-1</td>\n",
       "      <td>-</td>\n",
       "      <td>NO</td>\n",
       "      <td>-</td>\n",
       "      <td>2015-05-15</td>\n",
       "      <td>7654.0</td>\n",
       "      <td>WEST PCT</td>\n",
       "      <td>1.0</td>\n",
       "      <td>2.015000e+13</td>\n",
       "      <td>2015-05-15 19:51:43</td>\n",
       "      <td>24.0</td>\n",
       "      <td>WEST</td>\n",
       "      <td>KING</td>\n",
       "      <td>K3</td>\n",
       "      <td>-1.000000</td>\n",
       "      <td>-1.0000</td>\n",
       "      <td>2015.0</td>\n",
       "      <td>2015.0</td>\n",
       "      <td>5.0</td>\n",
       "      <td>4.0</td>\n",
       "      <td>19.0</td>\n",
       "      <td>2015.0</td>\n",
       "      <td>5.0</td>\n",
       "      <td>4.0</td>\n",
       "      <td>20.0</td>\n",
       "      <td>NaN</td>\n",
       "      <td>NaN</td>\n",
       "      <td>NaN</td>\n",
       "      <td>NaN</td>\n",
       "      <td>NaN</td>\n",
       "      <td>NaN</td>\n",
       "    </tr>\n",
       "    <tr>\n",
       "      <th>1</th>\n",
       "      <td>43653</td>\n",
       "      <td>20150000159907</td>\n",
       "      <td>NO ACTION POSSIBLE/NECESSARY/UNABLE TO CONTACT</td>\n",
       "      <td>-</td>\n",
       "      <td>-1</td>\n",
       "      <td>-</td>\n",
       "      <td>NO</td>\n",
       "      <td>-</td>\n",
       "      <td>2015-05-15</td>\n",
       "      <td>7789.0</td>\n",
       "      <td>WEST PCT</td>\n",
       "      <td>1.0</td>\n",
       "      <td>2.015000e+13</td>\n",
       "      <td>2015-05-15 19:51:43</td>\n",
       "      <td>3.0</td>\n",
       "      <td>WEST</td>\n",
       "      <td>KING</td>\n",
       "      <td>K3</td>\n",
       "      <td>-1.000000</td>\n",
       "      <td>-1.0000</td>\n",
       "      <td>2015.0</td>\n",
       "      <td>2015.0</td>\n",
       "      <td>5.0</td>\n",
       "      <td>4.0</td>\n",
       "      <td>19.0</td>\n",
       "      <td>2015.0</td>\n",
       "      <td>5.0</td>\n",
       "      <td>4.0</td>\n",
       "      <td>20.0</td>\n",
       "      <td>NaN</td>\n",
       "      <td>NaN</td>\n",
       "      <td>NaN</td>\n",
       "      <td>NaN</td>\n",
       "      <td>NaN</td>\n",
       "      <td>NaN</td>\n",
       "    </tr>\n",
       "    <tr>\n",
       "      <th>2</th>\n",
       "      <td>43719</td>\n",
       "      <td>20150000160408</td>\n",
       "      <td>NO ACTION POSSIBLE/NECESSARY/UNABLE TO CONTACT</td>\n",
       "      <td>-</td>\n",
       "      <td>-1</td>\n",
       "      <td>-</td>\n",
       "      <td>NO</td>\n",
       "      <td>-</td>\n",
       "      <td>2015-05-16</td>\n",
       "      <td>7692.0</td>\n",
       "      <td>NORTH PCT</td>\n",
       "      <td>1.0</td>\n",
       "      <td>2.015000e+13</td>\n",
       "      <td>2015-05-16 03:31:04</td>\n",
       "      <td>25.0</td>\n",
       "      <td>NORTH</td>\n",
       "      <td>JOHN</td>\n",
       "      <td>J1</td>\n",
       "      <td>47.691343</td>\n",
       "      <td>-122.3714</td>\n",
       "      <td>2015.0</td>\n",
       "      <td>2015.0</td>\n",
       "      <td>5.0</td>\n",
       "      <td>5.0</td>\n",
       "      <td>3.0</td>\n",
       "      <td>2015.0</td>\n",
       "      <td>5.0</td>\n",
       "      <td>5.0</td>\n",
       "      <td>6.0</td>\n",
       "      <td>NaN</td>\n",
       "      <td>NaN</td>\n",
       "      <td>NaN</td>\n",
       "      <td>NaN</td>\n",
       "      <td>NaN</td>\n",
       "      <td>NaN</td>\n",
       "    </tr>\n",
       "    <tr>\n",
       "      <th>3</th>\n",
       "      <td>43719</td>\n",
       "      <td>20150000160408</td>\n",
       "      <td>NO ACTION POSSIBLE/NECESSARY/UNABLE TO CONTACT</td>\n",
       "      <td>-</td>\n",
       "      <td>-1</td>\n",
       "      <td>-</td>\n",
       "      <td>NO</td>\n",
       "      <td>-</td>\n",
       "      <td>2015-05-16</td>\n",
       "      <td>7787.0</td>\n",
       "      <td>TRAINING AND EDUCATION SECTION</td>\n",
       "      <td>1.0</td>\n",
       "      <td>2.015000e+13</td>\n",
       "      <td>2015-05-16 03:31:04</td>\n",
       "      <td>16.0</td>\n",
       "      <td>NORTH</td>\n",
       "      <td>JOHN</td>\n",
       "      <td>J1</td>\n",
       "      <td>47.691343</td>\n",
       "      <td>-122.3714</td>\n",
       "      <td>2015.0</td>\n",
       "      <td>2015.0</td>\n",
       "      <td>5.0</td>\n",
       "      <td>5.0</td>\n",
       "      <td>3.0</td>\n",
       "      <td>2015.0</td>\n",
       "      <td>5.0</td>\n",
       "      <td>5.0</td>\n",
       "      <td>6.0</td>\n",
       "      <td>NaN</td>\n",
       "      <td>NaN</td>\n",
       "      <td>NaN</td>\n",
       "      <td>NaN</td>\n",
       "      <td>NaN</td>\n",
       "      <td>NaN</td>\n",
       "    </tr>\n",
       "    <tr>\n",
       "      <th>4</th>\n",
       "      <td>43719</td>\n",
       "      <td>20150000160408</td>\n",
       "      <td>NO ACTION POSSIBLE/NECESSARY/UNABLE TO CONTACT</td>\n",
       "      <td>-</td>\n",
       "      <td>-1</td>\n",
       "      <td>-</td>\n",
       "      <td>NO</td>\n",
       "      <td>-</td>\n",
       "      <td>2015-05-16</td>\n",
       "      <td>7568.0</td>\n",
       "      <td>NORTH PCT</td>\n",
       "      <td>1.0</td>\n",
       "      <td>2.015000e+13</td>\n",
       "      <td>2015-05-16 03:31:04</td>\n",
       "      <td>16.0</td>\n",
       "      <td>NORTH</td>\n",
       "      <td>JOHN</td>\n",
       "      <td>J1</td>\n",
       "      <td>47.691343</td>\n",
       "      <td>-122.3714</td>\n",
       "      <td>2015.0</td>\n",
       "      <td>2015.0</td>\n",
       "      <td>5.0</td>\n",
       "      <td>5.0</td>\n",
       "      <td>3.0</td>\n",
       "      <td>2015.0</td>\n",
       "      <td>5.0</td>\n",
       "      <td>5.0</td>\n",
       "      <td>6.0</td>\n",
       "      <td>NaN</td>\n",
       "      <td>NaN</td>\n",
       "      <td>NaN</td>\n",
       "      <td>NaN</td>\n",
       "      <td>NaN</td>\n",
       "      <td>NaN</td>\n",
       "    </tr>\n",
       "  </tbody>\n",
       "</table>\n",
       "</div>"
      ],
      "text/plain": [
       "   Behavioral Crisis Num    CAD Event ID  \\\n",
       "0                  43653  20150000159907   \n",
       "1                  43653  20150000159907   \n",
       "2                  43719  20150000160408   \n",
       "3                  43719  20150000160408   \n",
       "4                  43719  20150000160408   \n",
       "\n",
       "                                      Disposition Exhibiting Behavior (group)  \\\n",
       "0  NO ACTION POSSIBLE/NECESSARY/UNABLE TO CONTACT                           -   \n",
       "1  NO ACTION POSSIBLE/NECESSARY/UNABLE TO CONTACT                           -   \n",
       "2  NO ACTION POSSIBLE/NECESSARY/UNABLE TO CONTACT                           -   \n",
       "3  NO ACTION POSSIBLE/NECESSARY/UNABLE TO CONTACT                           -   \n",
       "4  NO ACTION POSSIBLE/NECESSARY/UNABLE TO CONTACT                           -   \n",
       "\n",
       "   Subject Age Techniques Used UoF Indicator Weapons Involved Reported Date  \\\n",
       "0           -1               -            NO                -    2015-05-15   \n",
       "1           -1               -            NO                -    2015-05-15   \n",
       "2           -1               -            NO                -    2015-05-16   \n",
       "3           -1               -            NO                -    2015-05-16   \n",
       "4           -1               -            NO                -    2015-05-16   \n",
       "\n",
       "   Officer Serial Num     As_On_Officer Precinct_Desc  Call Priority Code  \\\n",
       "0              7654.0                        WEST PCT                 1.0   \n",
       "1              7789.0                        WEST PCT                 1.0   \n",
       "2              7692.0                       NORTH PCT                 1.0   \n",
       "3              7787.0  TRAINING AND EDUCATION SECTION                 1.0   \n",
       "4              7568.0                       NORTH PCT                 1.0   \n",
       "\n",
       "         GO Num  First Dispatch Time  Total Service Time Precinct Sector Beat  \\\n",
       "0  2.015000e+13  2015-05-15 19:51:43                24.0     WEST   KING   K3   \n",
       "1  2.015000e+13  2015-05-15 19:51:43                 3.0     WEST   KING   K3   \n",
       "2  2.015000e+13  2015-05-16 03:31:04                25.0    NORTH   JOHN   J1   \n",
       "3  2.015000e+13  2015-05-16 03:31:04                16.0    NORTH   JOHN   J1   \n",
       "4  2.015000e+13  2015-05-16 03:31:04                16.0    NORTH   JOHN   J1   \n",
       "\n",
       "   Blurred_Latitude  Blurred_Longitude    Year  First Dispatch Year  \\\n",
       "0         -1.000000            -1.0000  2015.0               2015.0   \n",
       "1         -1.000000            -1.0000  2015.0               2015.0   \n",
       "2         47.691343          -122.3714  2015.0               2015.0   \n",
       "3         47.691343          -122.3714  2015.0               2015.0   \n",
       "4         47.691343          -122.3714  2015.0               2015.0   \n",
       "\n",
       "   First Dispatch Month  First Dispatch Weekday  First Dispatch Hour  \\\n",
       "0                   5.0                     4.0                 19.0   \n",
       "1                   5.0                     4.0                 19.0   \n",
       "2                   5.0                     5.0                  3.0   \n",
       "3                   5.0                     5.0                  3.0   \n",
       "4                   5.0                     5.0                  3.0   \n",
       "\n",
       "   Clear Year  Clear Month  Clear Weekday  Clear Hour CIT Certified Ind  \\\n",
       "0      2015.0          5.0            4.0        20.0               NaN   \n",
       "1      2015.0          5.0            4.0        20.0               NaN   \n",
       "2      2015.0          5.0            5.0         6.0               NaN   \n",
       "3      2015.0          5.0            5.0         6.0               NaN   \n",
       "4      2015.0          5.0            5.0         6.0               NaN   \n",
       "\n",
       "  Incident Type Officer Gender Officer Race Subject Gender Subject Race  \n",
       "0           NaN            NaN          NaN            NaN          NaN  \n",
       "1           NaN            NaN          NaN            NaN          NaN  \n",
       "2           NaN            NaN          NaN            NaN          NaN  \n",
       "3           NaN            NaN          NaN            NaN          NaN  \n",
       "4           NaN            NaN          NaN            NaN          NaN  "
      ]
     },
     "execution_count": 3,
     "metadata": {},
     "output_type": "execute_result"
    }
   ],
   "source": [
    "pd.options.display.max_columns = 100\n",
    "df.head()"
   ]
  },
  {
   "cell_type": "code",
   "execution_count": 4,
   "metadata": {},
   "outputs": [],
   "source": [
    "# Select relevant variables\n",
    "df_model = df[['Behavioral Crisis Num', 'CAD Event ID', 'Officer Serial Num', #IDs to check for duplicates\n",
    "    'UoF Indicator', # response variable\n",
    "    'Disposition', 'Exhibiting Behavior (group)', 'Subject Age', \n",
    "    'Subject Gender', 'Subject Race', 'Techniques Used', 'Weapons Involved',\n",
    "    'Call Priority Code', 'Total Service Time', 'Blurred_Latitude', \n",
    "    'Blurred_Longitude', \n",
    "    #'First Dispatch Month', 'First Dispatch Weekday', 'First Dispatch Hour',\n",
    "    'CIT Certified Ind',\n",
    "    #'Incident Type', \n",
    "    'Officer Gender', 'Officer Race']].reset_index(drop=True)"
   ]
  },
  {
   "cell_type": "code",
   "execution_count": 5,
   "metadata": {},
   "outputs": [
    {
     "data": {
      "text/plain": [
       "Index(['Behavioral_Crisis_Num', 'CAD_Event_ID', 'Officer_Serial_Num',\n",
       "       'UoF_Indicator', 'Disposition', 'Exhibiting_Behavior', 'Subject_Age',\n",
       "       'Subject_Gender', 'Subject_Race', 'Techniques_Used', 'Weapons_Involved',\n",
       "       'Call_Priority_Code', 'Total_Service_Time', 'Latitude', 'Longitude',\n",
       "       'CIT_Certified_Ind', 'Officer_Gender', 'Officer_Race'],\n",
       "      dtype='object')"
      ]
     },
     "execution_count": 5,
     "metadata": {},
     "output_type": "execute_result"
    }
   ],
   "source": [
    "# Editing column names\n",
    "df_model.rename(columns={\"Blurred_Latitude\": \"Latitude\", \n",
    "                         \"Blurred_Longitude\":\"Longitude\",\n",
    "                         \"Exhibiting Behavior (group)\":\"Exhibiting Behavior\"}, inplace=True)\n",
    "df_model.columns = df_model.columns.str.replace(' ', '_')\n",
    "df_model.columns"
   ]
  },
  {
   "cell_type": "code",
   "execution_count": 6,
   "metadata": {},
   "outputs": [],
   "source": [
    "# Drop duplicates considering new selected features\n",
    "df_model.drop_duplicates(subset=df_model.columns, inplace=True)"
   ]
  },
  {
   "cell_type": "code",
   "execution_count": 7,
   "metadata": {},
   "outputs": [],
   "source": [
    "# Replacing missing values for NaN\n",
    "#df_model.replace({'-': np.nan}, inplace=True)\n",
    "df_model.replace({-1: np.nan}, inplace=True)"
   ]
  },
  {
   "cell_type": "code",
   "execution_count": 8,
   "metadata": {},
   "outputs": [
    {
     "data": {
      "text/plain": [
       "Behavioral_Crisis_Num     0.000000\n",
       "CAD_Event_ID              0.000000\n",
       "Officer_Serial_Num        3.940038\n",
       "UoF_Indicator             0.000000\n",
       "Disposition               0.000000\n",
       "Exhibiting_Behavior       0.000000\n",
       "Subject_Age              43.666452\n",
       "Subject_Gender           98.470670\n",
       "Subject_Race             98.470670\n",
       "Techniques_Used           0.000000\n",
       "Weapons_Involved          0.000000\n",
       "Call_Priority_Code        3.944742\n",
       "Total_Service_Time        3.940038\n",
       "Latitude                  6.219039\n",
       "Longitude                 6.219039\n",
       "CIT_Certified_Ind        98.470670\n",
       "Officer_Gender           98.470670\n",
       "Officer_Race             98.470670\n",
       "dtype: float64"
      ]
     },
     "execution_count": 8,
     "metadata": {},
     "output_type": "execute_result"
    }
   ],
   "source": [
    "#Check on the % of null values\n",
    "df_model.isnull().sum()*100/df_model.shape[0]"
   ]
  },
  {
   "cell_type": "code",
   "execution_count": 9,
   "metadata": {},
   "outputs": [
    {
     "data": {
      "text/plain": [
       "Y    2883\n",
       "N    2319\n",
       "Name: CIT_Certified_Ind, dtype: int64"
      ]
     },
     "execution_count": 9,
     "metadata": {},
     "output_type": "execute_result"
    }
   ],
   "source": [
    "df_model['CIT_Certified_Ind'].value_counts()"
   ]
  },
  {
   "cell_type": "code",
   "execution_count": 10,
   "metadata": {},
   "outputs": [
    {
     "data": {
      "text/plain": [
       "(5202, 18)"
      ]
     },
     "execution_count": 10,
     "metadata": {},
     "output_type": "execute_result"
    }
   ],
   "source": [
    "# Drop NaN for CIT_Certified_Ind\n",
    "#df_model.dropna(inplace = True)\n",
    "df_model.dropna(subset=['CIT_Certified_Ind'], inplace = True)\n",
    "df_model.shape"
   ]
  },
  {
   "cell_type": "code",
   "execution_count": 11,
   "metadata": {},
   "outputs": [
    {
     "data": {
      "text/plain": [
       "Behavioral_Crisis_Num     0.000000\n",
       "CAD_Event_ID              0.000000\n",
       "Officer_Serial_Num        0.000000\n",
       "UoF_Indicator             0.000000\n",
       "Disposition               0.000000\n",
       "Exhibiting_Behavior       0.000000\n",
       "Subject_Age              35.563245\n",
       "Subject_Gender            0.000000\n",
       "Subject_Race              0.000000\n",
       "Techniques_Used           0.000000\n",
       "Weapons_Involved          0.000000\n",
       "Call_Priority_Code        0.000000\n",
       "Total_Service_Time        0.000000\n",
       "Latitude                  2.364475\n",
       "Longitude                 2.364475\n",
       "CIT_Certified_Ind         0.000000\n",
       "Officer_Gender            0.000000\n",
       "Officer_Race              0.000000\n",
       "dtype: float64"
      ]
     },
     "execution_count": 11,
     "metadata": {},
     "output_type": "execute_result"
    }
   ],
   "source": [
    "#Check on the % of null values\n",
    "df_model.isnull().sum()*100/df_model.shape[0]"
   ]
  },
  {
   "cell_type": "code",
   "execution_count": 12,
   "metadata": {},
   "outputs": [
    {
     "data": {
      "text/html": [
       "<div>\n",
       "<style scoped>\n",
       "    .dataframe tbody tr th:only-of-type {\n",
       "        vertical-align: middle;\n",
       "    }\n",
       "\n",
       "    .dataframe tbody tr th {\n",
       "        vertical-align: top;\n",
       "    }\n",
       "\n",
       "    .dataframe thead th {\n",
       "        text-align: right;\n",
       "    }\n",
       "</style>\n",
       "<table border=\"1\" class=\"dataframe\">\n",
       "  <thead>\n",
       "    <tr style=\"text-align: right;\">\n",
       "      <th></th>\n",
       "      <th>Behavioral_Crisis_Num</th>\n",
       "      <th>CAD_Event_ID</th>\n",
       "      <th>Officer_Serial_Num</th>\n",
       "      <th>UoF_Indicator</th>\n",
       "      <th>Disposition</th>\n",
       "      <th>Exhibiting_Behavior</th>\n",
       "      <th>Subject_Age</th>\n",
       "      <th>Subject_Gender</th>\n",
       "      <th>Subject_Race</th>\n",
       "      <th>Techniques_Used</th>\n",
       "      <th>Weapons_Involved</th>\n",
       "      <th>Call_Priority_Code</th>\n",
       "      <th>Total_Service_Time</th>\n",
       "      <th>Latitude</th>\n",
       "      <th>Longitude</th>\n",
       "      <th>CIT_Certified_Ind</th>\n",
       "      <th>Officer_Gender</th>\n",
       "      <th>Officer_Race</th>\n",
       "    </tr>\n",
       "  </thead>\n",
       "  <tbody>\n",
       "    <tr>\n",
       "      <th>65</th>\n",
       "      <td>45345.0</td>\n",
       "      <td>2.015000e+13</td>\n",
       "      <td>7787.0</td>\n",
       "      <td>YES</td>\n",
       "      <td>ARRESTED</td>\n",
       "      <td>-</td>\n",
       "      <td>NaN</td>\n",
       "      <td>M</td>\n",
       "      <td>Black or African American</td>\n",
       "      <td>-</td>\n",
       "      <td>-</td>\n",
       "      <td>2.0</td>\n",
       "      <td>51.0</td>\n",
       "      <td>47.708106</td>\n",
       "      <td>-122.317846</td>\n",
       "      <td>N</td>\n",
       "      <td>M</td>\n",
       "      <td>White</td>\n",
       "    </tr>\n",
       "    <tr>\n",
       "      <th>336</th>\n",
       "      <td>49408.0</td>\n",
       "      <td>2.015000e+13</td>\n",
       "      <td>5987.0</td>\n",
       "      <td>YES</td>\n",
       "      <td>ARRESTED</td>\n",
       "      <td>-</td>\n",
       "      <td>NaN</td>\n",
       "      <td>M</td>\n",
       "      <td>Black or African American</td>\n",
       "      <td>-</td>\n",
       "      <td>-</td>\n",
       "      <td>1.0</td>\n",
       "      <td>3.0</td>\n",
       "      <td>47.725511</td>\n",
       "      <td>-122.342300</td>\n",
       "      <td>N</td>\n",
       "      <td>M</td>\n",
       "      <td>White</td>\n",
       "    </tr>\n",
       "    <tr>\n",
       "      <th>829</th>\n",
       "      <td>59139.0</td>\n",
       "      <td>2.015000e+13</td>\n",
       "      <td>7580.0</td>\n",
       "      <td>YES</td>\n",
       "      <td>ARRESTED</td>\n",
       "      <td>-</td>\n",
       "      <td>NaN</td>\n",
       "      <td>M</td>\n",
       "      <td>Black or African American</td>\n",
       "      <td>-</td>\n",
       "      <td>-</td>\n",
       "      <td>2.0</td>\n",
       "      <td>19.0</td>\n",
       "      <td>47.689667</td>\n",
       "      <td>-122.376803</td>\n",
       "      <td>N</td>\n",
       "      <td>M</td>\n",
       "      <td>Hispanic or Latino</td>\n",
       "    </tr>\n",
       "    <tr>\n",
       "      <th>830</th>\n",
       "      <td>59139.0</td>\n",
       "      <td>2.015000e+13</td>\n",
       "      <td>7453.0</td>\n",
       "      <td>YES</td>\n",
       "      <td>ARRESTED</td>\n",
       "      <td>-</td>\n",
       "      <td>NaN</td>\n",
       "      <td>M</td>\n",
       "      <td>Black or African American</td>\n",
       "      <td>-</td>\n",
       "      <td>-</td>\n",
       "      <td>2.0</td>\n",
       "      <td>19.0</td>\n",
       "      <td>47.689667</td>\n",
       "      <td>-122.376803</td>\n",
       "      <td>N</td>\n",
       "      <td>M</td>\n",
       "      <td>White</td>\n",
       "    </tr>\n",
       "    <tr>\n",
       "      <th>2110</th>\n",
       "      <td>79547.0</td>\n",
       "      <td>2.015000e+13</td>\n",
       "      <td>7673.0</td>\n",
       "      <td>YES</td>\n",
       "      <td>EMERGENT DETENTION/ITA</td>\n",
       "      <td>-</td>\n",
       "      <td>NaN</td>\n",
       "      <td>F</td>\n",
       "      <td>White</td>\n",
       "      <td>-</td>\n",
       "      <td>-</td>\n",
       "      <td>1.0</td>\n",
       "      <td>3.0</td>\n",
       "      <td>47.604135</td>\n",
       "      <td>-122.338758</td>\n",
       "      <td>N</td>\n",
       "      <td>M</td>\n",
       "      <td>White</td>\n",
       "    </tr>\n",
       "  </tbody>\n",
       "</table>\n",
       "</div>"
      ],
      "text/plain": [
       "      Behavioral_Crisis_Num  CAD_Event_ID  Officer_Serial_Num UoF_Indicator  \\\n",
       "65                  45345.0  2.015000e+13              7787.0           YES   \n",
       "336                 49408.0  2.015000e+13              5987.0           YES   \n",
       "829                 59139.0  2.015000e+13              7580.0           YES   \n",
       "830                 59139.0  2.015000e+13              7453.0           YES   \n",
       "2110                79547.0  2.015000e+13              7673.0           YES   \n",
       "\n",
       "                 Disposition Exhibiting_Behavior  Subject_Age Subject_Gender  \\\n",
       "65                  ARRESTED                   -          NaN              M   \n",
       "336                 ARRESTED                   -          NaN              M   \n",
       "829                 ARRESTED                   -          NaN              M   \n",
       "830                 ARRESTED                   -          NaN              M   \n",
       "2110  EMERGENT DETENTION/ITA                   -          NaN              F   \n",
       "\n",
       "                   Subject_Race Techniques_Used Weapons_Involved  \\\n",
       "65    Black or African American               -                -   \n",
       "336   Black or African American               -                -   \n",
       "829   Black or African American               -                -   \n",
       "830   Black or African American               -                -   \n",
       "2110                      White               -                -   \n",
       "\n",
       "      Call_Priority_Code  Total_Service_Time   Latitude   Longitude  \\\n",
       "65                   2.0                51.0  47.708106 -122.317846   \n",
       "336                  1.0                 3.0  47.725511 -122.342300   \n",
       "829                  2.0                19.0  47.689667 -122.376803   \n",
       "830                  2.0                19.0  47.689667 -122.376803   \n",
       "2110                 1.0                 3.0  47.604135 -122.338758   \n",
       "\n",
       "     CIT_Certified_Ind Officer_Gender        Officer_Race  \n",
       "65                   N              M               White  \n",
       "336                  N              M               White  \n",
       "829                  N              M  Hispanic or Latino  \n",
       "830                  N              M               White  \n",
       "2110                 N              M               White  "
      ]
     },
     "execution_count": 12,
     "metadata": {},
     "output_type": "execute_result"
    }
   ],
   "source": [
    "df_model.head()"
   ]
  },
  {
   "cell_type": "markdown",
   "metadata": {},
   "source": [
    "## Feature engineering "
   ]
  },
  {
   "cell_type": "code",
   "execution_count": 13,
   "metadata": {},
   "outputs": [
    {
     "data": {
      "text/plain": [
       "ARRESTED                                                      3131\n",
       "EMERGENT DETENTION/ITA                                        1877\n",
       "NO ACTION POSSIBLE/NECESSARY/UNABLE TO CONTACT                  50\n",
       "DMHP/REFERRAL (DCR)                                             35\n",
       "-                                                               25\n",
       "CHRONIC COMPLAINT                                               22\n",
       "RESOURCES OFFERED/DECLINED                                      22\n",
       "OTHER                                                           18\n",
       "CSC/CDF (CRISIS SOLUTION CENTER/CRISIS DIVERSION FACILITY)       7\n",
       "MENTAL HEALTH AGENCY OR CASE MANAGER NOTIFIED                    6\n",
       "VOLUNTARY COMMITTAL                                              5\n",
       "MOBILE CRISIS TEAM                                               3\n",
       "CRISIS CLINIC                                                    1\n",
       "Name: Disposition, dtype: int64"
      ]
     },
     "execution_count": 13,
     "metadata": {},
     "output_type": "execute_result"
    }
   ],
   "source": [
    "df_model['Disposition'].value_counts()"
   ]
  },
  {
   "cell_type": "code",
   "execution_count": 14,
   "metadata": {},
   "outputs": [],
   "source": [
    "df_model.loc[df_model['Disposition'].isin([\"NO ACTION POSSIBLE/NECESSARY/UNABLE TO CONTACT\",\n",
    " \"OTHER\", \"-\", \"RESOURCES OFFERED/DECLINED\", \n",
    " \"CHRONIC COMPLAINT\", \"DMHP/REFERRAL (DCR)\",\n",
    " \"CSC/CDF (CRISIS SOLUTION CENTER/CRISIS DIVERSION FACILITY)\", \n",
    " \"MENTAL HEALTH AGENCY OR CASE MANAGER NOTIFIED\", \n",
    " \"VOLUNTARY COMMITTAL\", \"MOBILE CRISIS TEAM\",\n",
    " \"CRISIS CLINIC\"]), 'Disposition'] = \"OTHER\""
   ]
  },
  {
   "cell_type": "code",
   "execution_count": 15,
   "metadata": {},
   "outputs": [
    {
     "data": {
      "text/plain": [
       "ARRESTED                  3131\n",
       "EMERGENT DETENTION/ITA    1877\n",
       "OTHER                      194\n",
       "Name: Disposition, dtype: int64"
      ]
     },
     "execution_count": 15,
     "metadata": {},
     "output_type": "execute_result"
    }
   ],
   "source": [
    "df_model['Disposition'].value_counts()"
   ]
  },
  {
   "cell_type": "code",
   "execution_count": 16,
   "metadata": {},
   "outputs": [
    {
     "data": {
      "text/plain": [
       "DISORDERLY/DISRUPTIVE                1659\n",
       "BELLIGERENT/UNCOOPERATIVE             997\n",
       "NEGLECT/SELF CARE                     406\n",
       "OUT OF TOUCH WITH REALITY             308\n",
       "SUICIDE THREAT/ATTEMPT                276\n",
       "PHYSICALLY THREATENING/AGGRESSIVE     183\n",
       "PARANOID                              162\n",
       "DISORGANIZED SPEECH/COMMUNICATION     150\n",
       "-                                     147\n",
       "HALLUCINATIONS/DELUSIONS              146\n",
       "OTHER                                 144\n",
       "BIZARRE/UNUSUAL                       133\n",
       "VERBALLY THREATENING/AGGRESSIVE       133\n",
       "UNUSUALLY FRIGHTENED/SCARED            91\n",
       "DISORIENTATION/CONFUSION               70\n",
       "SUICIDE BY COP (SBC)                   69\n",
       "MANIC                                  67\n",
       "HOPELESS/DEPRESSED                     61\n",
       "Name: Exhibiting_Behavior, dtype: int64"
      ]
     },
     "execution_count": 16,
     "metadata": {},
     "output_type": "execute_result"
    }
   ],
   "source": [
    "df_model['Exhibiting_Behavior'].value_counts()"
   ]
  },
  {
   "cell_type": "code",
   "execution_count": 17,
   "metadata": {},
   "outputs": [],
   "source": [
    "df_model.loc[df_model['Exhibiting_Behavior'].isin([\"DISORGANIZED SPEECH/COMMUNICATION\",\n",
    "    \"OUT OF TOUCH WITH REALITY\", \"HOPELESS/DEPRESSED\",\n",
    "    \"MANIC\", \"HALLUCINATIONS/DELUSIONS\", \"PARANOID\",\n",
    "    \"DISORIENTATION/CONFUSION\",\"UNUSUALLY FRIGHTENED/SCARED\"]), 'Exhibiting_Behavior'] = \"MENTAL CRISIS\"\n",
    "df_model.loc[df_model['Exhibiting_Behavior'].isin([\"NEGLECT/SELF CARE\", \n",
    "    \"SUICIDE THREAT/ATTEMPT\", \"SUICIDE BY COP (SBC)\"]), 'Exhibiting_Behavior'] = \"SELF-THREATENING\"\n",
    "df_model.loc[df_model['Exhibiting_Behavior'].isin([\n",
    "    \"PHYSICALLY THREATENING/AGGRESSIVE\", \n",
    "    \"VERBALLY THREATENING/AGGRESSIVE\"]), 'Exhibiting_Behavior'] = \"THREATENING/AGGRESSIVE\"\n",
    "df_model.loc[df_model['Exhibiting_Behavior'].isin([\n",
    "    \"OTHER\", \"-\", \"BIZARRE/UNUSUAL\"]), 'Exhibiting_Behavior'] = \"OTHER\""
   ]
  },
  {
   "cell_type": "code",
   "execution_count": 18,
   "metadata": {},
   "outputs": [
    {
     "data": {
      "text/plain": [
       "DISORDERLY/DISRUPTIVE        1659\n",
       "MENTAL CRISIS                1055\n",
       "BELLIGERENT/UNCOOPERATIVE     997\n",
       "SELF-THREATENING              751\n",
       "OTHER                         424\n",
       "THREATENING/AGGRESSIVE        316\n",
       "Name: Exhibiting_Behavior, dtype: int64"
      ]
     },
     "execution_count": 18,
     "metadata": {},
     "output_type": "execute_result"
    }
   ],
   "source": [
    "df_model['Exhibiting_Behavior'].value_counts()"
   ]
  },
  {
   "cell_type": "code",
   "execution_count": 19,
   "metadata": {},
   "outputs": [
    {
     "data": {
      "text/plain": [
       "White                            2544\n",
       "Not Specified                    1296\n",
       "Black or African American         964\n",
       "Asian                             241\n",
       "Hispanic or Latino                 80\n",
       "American Indian/Alaska Native      66\n",
       "Nat Hawaiian/Oth Pac Islander      11\n",
       "Name: Subject_Race, dtype: int64"
      ]
     },
     "execution_count": 19,
     "metadata": {},
     "output_type": "execute_result"
    }
   ],
   "source": [
    "df_model['Subject_Race'].value_counts()"
   ]
  },
  {
   "cell_type": "code",
   "execution_count": 20,
   "metadata": {},
   "outputs": [],
   "source": [
    "df_model.loc[df_model['Subject_Race'].isin([\n",
    "    \"American Indian/Alaska Native\", \"Nat Hawaiian/Oth Pac Islander\"]), 'Subject_Race'] = \"AIAN/HPI\""
   ]
  },
  {
   "cell_type": "code",
   "execution_count": 21,
   "metadata": {},
   "outputs": [
    {
     "data": {
      "text/plain": [
       "White                        2544\n",
       "Not Specified                1296\n",
       "Black or African American     964\n",
       "Asian                         241\n",
       "Hispanic or Latino             80\n",
       "AIAN/HPI                       77\n",
       "Name: Subject_Race, dtype: int64"
      ]
     },
     "execution_count": 21,
     "metadata": {},
     "output_type": "execute_result"
    }
   ],
   "source": [
    "df_model['Subject_Race'].value_counts()"
   ]
  },
  {
   "cell_type": "code",
   "execution_count": 22,
   "metadata": {},
   "outputs": [
    {
     "data": {
      "text/plain": [
       "-                1740\n",
       "HANDCUFFING      1398\n",
       "VERBALIZATION    1149\n",
       "GURNEY            911\n",
       "NONE                4\n",
       "Name: Techniques_Used, dtype: int64"
      ]
     },
     "execution_count": 22,
     "metadata": {},
     "output_type": "execute_result"
    }
   ],
   "source": [
    "df_model['Techniques_Used'].value_counts()"
   ]
  },
  {
   "cell_type": "code",
   "execution_count": 23,
   "metadata": {},
   "outputs": [],
   "source": [
    "df_model.loc[df_model['Techniques_Used'].isin([\n",
    "    \"NONE\", \"-\"]), 'Techniques_Used'] = \"OTHER\""
   ]
  },
  {
   "cell_type": "code",
   "execution_count": 24,
   "metadata": {},
   "outputs": [
    {
     "data": {
      "text/plain": [
       "OTHER            1744\n",
       "HANDCUFFING      1398\n",
       "VERBALIZATION    1149\n",
       "GURNEY            911\n",
       "Name: Techniques_Used, dtype: int64"
      ]
     },
     "execution_count": 24,
     "metadata": {},
     "output_type": "execute_result"
    }
   ],
   "source": [
    "df_model['Techniques_Used'].value_counts()"
   ]
  },
  {
   "cell_type": "code",
   "execution_count": 25,
   "metadata": {},
   "outputs": [
    {
     "data": {
      "text/plain": [
       "-                                       1740\n",
       "NONE/NOT APPLICABLE                     1271\n",
       "PERSONAL WEAPONS (HANDS, FEET, ETC.)    1070\n",
       "KNIFE/CUTTING/STABBING INSTRUMENT        663\n",
       "BLUNT OBJECT/STRIKING IMPLEMENT          316\n",
       "TASER/STUN GUN                            71\n",
       "FIREARM                                   59\n",
       "MACE/PEPPER SPRAY                         12\n",
       "Name: Weapons_Involved, dtype: int64"
      ]
     },
     "execution_count": 25,
     "metadata": {},
     "output_type": "execute_result"
    }
   ],
   "source": [
    "df_model['Weapons_Involved'].value_counts()"
   ]
  },
  {
   "cell_type": "code",
   "execution_count": 26,
   "metadata": {},
   "outputs": [],
   "source": [
    "df_model.loc[df_model['Weapons_Involved'].isin([\n",
    "    \"-\"]), 'Weapons_Involved'] = \"OTHER\"\n",
    "df_model.loc[df_model['Weapons_Involved'].isin([\n",
    "    \"TASER/STUN GUN\", \"MACE/PEPPER SPRAY\"]), 'Weapons_Involved'] = \"PERSONAL DEFENSE WEAPONS\""
   ]
  },
  {
   "cell_type": "code",
   "execution_count": 27,
   "metadata": {},
   "outputs": [
    {
     "data": {
      "text/plain": [
       "OTHER                                   1740\n",
       "NONE/NOT APPLICABLE                     1271\n",
       "PERSONAL WEAPONS (HANDS, FEET, ETC.)    1070\n",
       "KNIFE/CUTTING/STABBING INSTRUMENT        663\n",
       "BLUNT OBJECT/STRIKING IMPLEMENT          316\n",
       "PERSONAL DEFENSE WEAPONS                  83\n",
       "FIREARM                                   59\n",
       "Name: Weapons_Involved, dtype: int64"
      ]
     },
     "execution_count": 27,
     "metadata": {},
     "output_type": "execute_result"
    }
   ],
   "source": [
    "df_model['Weapons_Involved'].value_counts()"
   ]
  },
  {
   "cell_type": "code",
   "execution_count": 28,
   "metadata": {},
   "outputs": [
    {
     "data": {
      "text/plain": [
       "White                            3642\n",
       "Two or More Races                 435\n",
       "Asian                             340\n",
       "Hispanic or Latino                318\n",
       "Black or African American         262\n",
       "Not Specified                     150\n",
       "Nat Hawaiian/Oth Pac Islander      36\n",
       "American Indian/Alaska Native      19\n",
       "Name: Officer_Race, dtype: int64"
      ]
     },
     "execution_count": 28,
     "metadata": {},
     "output_type": "execute_result"
    }
   ],
   "source": [
    "df_model['Officer_Race'].value_counts()"
   ]
  },
  {
   "cell_type": "code",
   "execution_count": 29,
   "metadata": {},
   "outputs": [],
   "source": [
    "df_model.loc[df_model['Officer_Race'].isin([\n",
    "    \"American Indian/Alaska Native\", \"Nat Hawaiian/Oth Pac Islander\"]), 'Officer_Race'] = \"AIAN/HPI\""
   ]
  },
  {
   "cell_type": "code",
   "execution_count": 30,
   "metadata": {},
   "outputs": [
    {
     "data": {
      "text/plain": [
       "White                        3642\n",
       "Two or More Races             435\n",
       "Asian                         340\n",
       "Hispanic or Latino            318\n",
       "Black or African American     262\n",
       "Not Specified                 150\n",
       "AIAN/HPI                       55\n",
       "Name: Officer_Race, dtype: int64"
      ]
     },
     "execution_count": 30,
     "metadata": {},
     "output_type": "execute_result"
    }
   ],
   "source": [
    "df_model['Officer_Race'].value_counts()"
   ]
  },
  {
   "cell_type": "code",
   "execution_count": 31,
   "metadata": {},
   "outputs": [
    {
     "data": {
      "text/html": [
       "<div>\n",
       "<style scoped>\n",
       "    .dataframe tbody tr th:only-of-type {\n",
       "        vertical-align: middle;\n",
       "    }\n",
       "\n",
       "    .dataframe tbody tr th {\n",
       "        vertical-align: top;\n",
       "    }\n",
       "\n",
       "    .dataframe thead th {\n",
       "        text-align: right;\n",
       "    }\n",
       "</style>\n",
       "<table border=\"1\" class=\"dataframe\">\n",
       "  <thead>\n",
       "    <tr style=\"text-align: right;\">\n",
       "      <th></th>\n",
       "      <th>UoF_Indicator</th>\n",
       "      <th>Disposition</th>\n",
       "      <th>Exhibiting_Behavior</th>\n",
       "      <th>Subject_Age</th>\n",
       "      <th>Subject_Gender</th>\n",
       "      <th>Subject_Race</th>\n",
       "      <th>Techniques_Used</th>\n",
       "      <th>Weapons_Involved</th>\n",
       "      <th>Call_Priority_Code</th>\n",
       "      <th>Total_Service_Time</th>\n",
       "      <th>Latitude</th>\n",
       "      <th>Longitude</th>\n",
       "      <th>CIT_Certified_Ind</th>\n",
       "      <th>Officer_Gender</th>\n",
       "      <th>Officer_Race</th>\n",
       "    </tr>\n",
       "  </thead>\n",
       "  <tbody>\n",
       "    <tr>\n",
       "      <th>65</th>\n",
       "      <td>YES</td>\n",
       "      <td>ARRESTED</td>\n",
       "      <td>OTHER</td>\n",
       "      <td>NaN</td>\n",
       "      <td>M</td>\n",
       "      <td>Black or African American</td>\n",
       "      <td>OTHER</td>\n",
       "      <td>OTHER</td>\n",
       "      <td>2.0</td>\n",
       "      <td>51.0</td>\n",
       "      <td>47.708106</td>\n",
       "      <td>-122.317846</td>\n",
       "      <td>N</td>\n",
       "      <td>M</td>\n",
       "      <td>White</td>\n",
       "    </tr>\n",
       "    <tr>\n",
       "      <th>336</th>\n",
       "      <td>YES</td>\n",
       "      <td>ARRESTED</td>\n",
       "      <td>OTHER</td>\n",
       "      <td>NaN</td>\n",
       "      <td>M</td>\n",
       "      <td>Black or African American</td>\n",
       "      <td>OTHER</td>\n",
       "      <td>OTHER</td>\n",
       "      <td>1.0</td>\n",
       "      <td>3.0</td>\n",
       "      <td>47.725511</td>\n",
       "      <td>-122.342300</td>\n",
       "      <td>N</td>\n",
       "      <td>M</td>\n",
       "      <td>White</td>\n",
       "    </tr>\n",
       "    <tr>\n",
       "      <th>829</th>\n",
       "      <td>YES</td>\n",
       "      <td>ARRESTED</td>\n",
       "      <td>OTHER</td>\n",
       "      <td>NaN</td>\n",
       "      <td>M</td>\n",
       "      <td>Black or African American</td>\n",
       "      <td>OTHER</td>\n",
       "      <td>OTHER</td>\n",
       "      <td>2.0</td>\n",
       "      <td>19.0</td>\n",
       "      <td>47.689667</td>\n",
       "      <td>-122.376803</td>\n",
       "      <td>N</td>\n",
       "      <td>M</td>\n",
       "      <td>Hispanic or Latino</td>\n",
       "    </tr>\n",
       "    <tr>\n",
       "      <th>830</th>\n",
       "      <td>YES</td>\n",
       "      <td>ARRESTED</td>\n",
       "      <td>OTHER</td>\n",
       "      <td>NaN</td>\n",
       "      <td>M</td>\n",
       "      <td>Black or African American</td>\n",
       "      <td>OTHER</td>\n",
       "      <td>OTHER</td>\n",
       "      <td>2.0</td>\n",
       "      <td>19.0</td>\n",
       "      <td>47.689667</td>\n",
       "      <td>-122.376803</td>\n",
       "      <td>N</td>\n",
       "      <td>M</td>\n",
       "      <td>White</td>\n",
       "    </tr>\n",
       "    <tr>\n",
       "      <th>2110</th>\n",
       "      <td>YES</td>\n",
       "      <td>EMERGENT DETENTION/ITA</td>\n",
       "      <td>OTHER</td>\n",
       "      <td>NaN</td>\n",
       "      <td>F</td>\n",
       "      <td>White</td>\n",
       "      <td>OTHER</td>\n",
       "      <td>OTHER</td>\n",
       "      <td>1.0</td>\n",
       "      <td>3.0</td>\n",
       "      <td>47.604135</td>\n",
       "      <td>-122.338758</td>\n",
       "      <td>N</td>\n",
       "      <td>M</td>\n",
       "      <td>White</td>\n",
       "    </tr>\n",
       "  </tbody>\n",
       "</table>\n",
       "</div>"
      ],
      "text/plain": [
       "     UoF_Indicator             Disposition Exhibiting_Behavior  Subject_Age  \\\n",
       "65             YES                ARRESTED               OTHER          NaN   \n",
       "336            YES                ARRESTED               OTHER          NaN   \n",
       "829            YES                ARRESTED               OTHER          NaN   \n",
       "830            YES                ARRESTED               OTHER          NaN   \n",
       "2110           YES  EMERGENT DETENTION/ITA               OTHER          NaN   \n",
       "\n",
       "     Subject_Gender               Subject_Race Techniques_Used  \\\n",
       "65                M  Black or African American           OTHER   \n",
       "336               M  Black or African American           OTHER   \n",
       "829               M  Black or African American           OTHER   \n",
       "830               M  Black or African American           OTHER   \n",
       "2110              F                      White           OTHER   \n",
       "\n",
       "     Weapons_Involved  Call_Priority_Code  Total_Service_Time   Latitude  \\\n",
       "65              OTHER                 2.0                51.0  47.708106   \n",
       "336             OTHER                 1.0                 3.0  47.725511   \n",
       "829             OTHER                 2.0                19.0  47.689667   \n",
       "830             OTHER                 2.0                19.0  47.689667   \n",
       "2110            OTHER                 1.0                 3.0  47.604135   \n",
       "\n",
       "       Longitude CIT_Certified_Ind Officer_Gender        Officer_Race  \n",
       "65   -122.317846                 N              M               White  \n",
       "336  -122.342300                 N              M               White  \n",
       "829  -122.376803                 N              M  Hispanic or Latino  \n",
       "830  -122.376803                 N              M               White  \n",
       "2110 -122.338758                 N              M               White  "
      ]
     },
     "execution_count": 31,
     "metadata": {},
     "output_type": "execute_result"
    }
   ],
   "source": [
    "# Drop ID cols\n",
    "df_model.drop([\"Behavioral_Crisis_Num\", \"CAD_Event_ID\", \"Officer_Serial_Num\"], axis = 1, inplace=True)\n",
    "df_model.head()"
   ]
  },
  {
   "cell_type": "code",
   "execution_count": 32,
   "metadata": {},
   "outputs": [
    {
     "data": {
      "text/plain": [
       "UoF_Indicator           0.000000\n",
       "Disposition             0.000000\n",
       "Exhibiting_Behavior     0.000000\n",
       "Subject_Age            35.563245\n",
       "Subject_Gender          0.000000\n",
       "Subject_Race            0.000000\n",
       "Techniques_Used         0.000000\n",
       "Weapons_Involved        0.000000\n",
       "Call_Priority_Code      0.000000\n",
       "Total_Service_Time      0.000000\n",
       "Latitude                2.364475\n",
       "Longitude               2.364475\n",
       "CIT_Certified_Ind       0.000000\n",
       "Officer_Gender          0.000000\n",
       "Officer_Race            0.000000\n",
       "dtype: float64"
      ]
     },
     "execution_count": 32,
     "metadata": {},
     "output_type": "execute_result"
    }
   ],
   "source": [
    "#Check on the % of null values\n",
    "df_model.isnull().sum()*100/df_model.shape[0]"
   ]
  },
  {
   "cell_type": "code",
   "execution_count": 33,
   "metadata": {},
   "outputs": [],
   "source": [
    "# Remove subject Age and then remove missing values\n",
    "df_model.drop([\"Subject_Age\"], axis = 1, inplace=True)\n",
    "df_model.dropna(inplace = True)"
   ]
  },
  {
   "cell_type": "code",
   "execution_count": 34,
   "metadata": {},
   "outputs": [
    {
     "data": {
      "text/plain": [
       "UoF_Indicator          0.0\n",
       "Disposition            0.0\n",
       "Exhibiting_Behavior    0.0\n",
       "Subject_Gender         0.0\n",
       "Subject_Race           0.0\n",
       "Techniques_Used        0.0\n",
       "Weapons_Involved       0.0\n",
       "Call_Priority_Code     0.0\n",
       "Total_Service_Time     0.0\n",
       "Latitude               0.0\n",
       "Longitude              0.0\n",
       "CIT_Certified_Ind      0.0\n",
       "Officer_Gender         0.0\n",
       "Officer_Race           0.0\n",
       "dtype: float64"
      ]
     },
     "execution_count": 34,
     "metadata": {},
     "output_type": "execute_result"
    }
   ],
   "source": [
    "#Check on the % of null values\n",
    "df_model.isnull().sum()*100/df_model.shape[0]"
   ]
  },
  {
   "cell_type": "code",
   "execution_count": 35,
   "metadata": {},
   "outputs": [
    {
     "data": {
      "text/plain": [
       "(5079, 14)"
      ]
     },
     "execution_count": 35,
     "metadata": {},
     "output_type": "execute_result"
    }
   ],
   "source": [
    "df_model.shape"
   ]
  },
  {
   "cell_type": "markdown",
   "metadata": {},
   "source": [
    "## Apply One hot encoding to categorical variables"
   ]
  },
  {
   "cell_type": "code",
   "execution_count": 36,
   "metadata": {},
   "outputs": [
    {
     "data": {
      "text/html": [
       "<div>\n",
       "<style scoped>\n",
       "    .dataframe tbody tr th:only-of-type {\n",
       "        vertical-align: middle;\n",
       "    }\n",
       "\n",
       "    .dataframe tbody tr th {\n",
       "        vertical-align: top;\n",
       "    }\n",
       "\n",
       "    .dataframe thead th {\n",
       "        text-align: right;\n",
       "    }\n",
       "</style>\n",
       "<table border=\"1\" class=\"dataframe\">\n",
       "  <thead>\n",
       "    <tr style=\"text-align: right;\">\n",
       "      <th></th>\n",
       "      <th>Call_Priority_Code</th>\n",
       "      <th>Total_Service_Time</th>\n",
       "      <th>Latitude</th>\n",
       "      <th>Longitude</th>\n",
       "      <th>Disposition_ARRESTED</th>\n",
       "      <th>Disposition_EMERGENT DETENTION/ITA</th>\n",
       "      <th>Disposition_OTHER</th>\n",
       "      <th>Exhibiting_Behavior_BELLIGERENT/UNCOOPERATIVE</th>\n",
       "      <th>Exhibiting_Behavior_DISORDERLY/DISRUPTIVE</th>\n",
       "      <th>Exhibiting_Behavior_MENTAL CRISIS</th>\n",
       "      <th>Exhibiting_Behavior_OTHER</th>\n",
       "      <th>Exhibiting_Behavior_SELF-THREATENING</th>\n",
       "      <th>Exhibiting_Behavior_THREATENING/AGGRESSIVE</th>\n",
       "      <th>Subject_Gender_F</th>\n",
       "      <th>Subject_Gender_M</th>\n",
       "      <th>Subject_Gender_N</th>\n",
       "      <th>Subject_Race_AIAN/HPI</th>\n",
       "      <th>Subject_Race_Asian</th>\n",
       "      <th>Subject_Race_Black or African American</th>\n",
       "      <th>Subject_Race_Hispanic or Latino</th>\n",
       "      <th>Subject_Race_Not Specified</th>\n",
       "      <th>Subject_Race_White</th>\n",
       "      <th>Techniques_Used_GURNEY</th>\n",
       "      <th>Techniques_Used_HANDCUFFING</th>\n",
       "      <th>Techniques_Used_OTHER</th>\n",
       "      <th>Techniques_Used_VERBALIZATION</th>\n",
       "      <th>Weapons_Involved_BLUNT OBJECT/STRIKING IMPLEMENT</th>\n",
       "      <th>Weapons_Involved_FIREARM</th>\n",
       "      <th>Weapons_Involved_KNIFE/CUTTING/STABBING INSTRUMENT</th>\n",
       "      <th>Weapons_Involved_NONE/NOT APPLICABLE</th>\n",
       "      <th>Weapons_Involved_OTHER</th>\n",
       "      <th>Weapons_Involved_PERSONAL DEFENSE WEAPONS</th>\n",
       "      <th>Weapons_Involved_PERSONAL WEAPONS (HANDS, FEET, ETC.)</th>\n",
       "      <th>CIT_Certified_Ind_N</th>\n",
       "      <th>CIT_Certified_Ind_Y</th>\n",
       "      <th>Officer_Gender_F</th>\n",
       "      <th>Officer_Gender_M</th>\n",
       "      <th>Officer_Race_AIAN/HPI</th>\n",
       "      <th>Officer_Race_Asian</th>\n",
       "      <th>Officer_Race_Black or African American</th>\n",
       "      <th>Officer_Race_Hispanic or Latino</th>\n",
       "      <th>Officer_Race_Not Specified</th>\n",
       "      <th>Officer_Race_Two or More Races</th>\n",
       "      <th>Officer_Race_White</th>\n",
       "    </tr>\n",
       "  </thead>\n",
       "  <tbody>\n",
       "    <tr>\n",
       "      <th>65</th>\n",
       "      <td>2.0</td>\n",
       "      <td>51.0</td>\n",
       "      <td>47.708106</td>\n",
       "      <td>-122.317846</td>\n",
       "      <td>1</td>\n",
       "      <td>0</td>\n",
       "      <td>0</td>\n",
       "      <td>0</td>\n",
       "      <td>0</td>\n",
       "      <td>0</td>\n",
       "      <td>1</td>\n",
       "      <td>0</td>\n",
       "      <td>0</td>\n",
       "      <td>0</td>\n",
       "      <td>1</td>\n",
       "      <td>0</td>\n",
       "      <td>0</td>\n",
       "      <td>0</td>\n",
       "      <td>1</td>\n",
       "      <td>0</td>\n",
       "      <td>0</td>\n",
       "      <td>0</td>\n",
       "      <td>0</td>\n",
       "      <td>0</td>\n",
       "      <td>1</td>\n",
       "      <td>0</td>\n",
       "      <td>0</td>\n",
       "      <td>0</td>\n",
       "      <td>0</td>\n",
       "      <td>0</td>\n",
       "      <td>1</td>\n",
       "      <td>0</td>\n",
       "      <td>0</td>\n",
       "      <td>1</td>\n",
       "      <td>0</td>\n",
       "      <td>0</td>\n",
       "      <td>1</td>\n",
       "      <td>0</td>\n",
       "      <td>0</td>\n",
       "      <td>0</td>\n",
       "      <td>0</td>\n",
       "      <td>0</td>\n",
       "      <td>0</td>\n",
       "      <td>1</td>\n",
       "    </tr>\n",
       "    <tr>\n",
       "      <th>336</th>\n",
       "      <td>1.0</td>\n",
       "      <td>3.0</td>\n",
       "      <td>47.725511</td>\n",
       "      <td>-122.342300</td>\n",
       "      <td>1</td>\n",
       "      <td>0</td>\n",
       "      <td>0</td>\n",
       "      <td>0</td>\n",
       "      <td>0</td>\n",
       "      <td>0</td>\n",
       "      <td>1</td>\n",
       "      <td>0</td>\n",
       "      <td>0</td>\n",
       "      <td>0</td>\n",
       "      <td>1</td>\n",
       "      <td>0</td>\n",
       "      <td>0</td>\n",
       "      <td>0</td>\n",
       "      <td>1</td>\n",
       "      <td>0</td>\n",
       "      <td>0</td>\n",
       "      <td>0</td>\n",
       "      <td>0</td>\n",
       "      <td>0</td>\n",
       "      <td>1</td>\n",
       "      <td>0</td>\n",
       "      <td>0</td>\n",
       "      <td>0</td>\n",
       "      <td>0</td>\n",
       "      <td>0</td>\n",
       "      <td>1</td>\n",
       "      <td>0</td>\n",
       "      <td>0</td>\n",
       "      <td>1</td>\n",
       "      <td>0</td>\n",
       "      <td>0</td>\n",
       "      <td>1</td>\n",
       "      <td>0</td>\n",
       "      <td>0</td>\n",
       "      <td>0</td>\n",
       "      <td>0</td>\n",
       "      <td>0</td>\n",
       "      <td>0</td>\n",
       "      <td>1</td>\n",
       "    </tr>\n",
       "    <tr>\n",
       "      <th>829</th>\n",
       "      <td>2.0</td>\n",
       "      <td>19.0</td>\n",
       "      <td>47.689667</td>\n",
       "      <td>-122.376803</td>\n",
       "      <td>1</td>\n",
       "      <td>0</td>\n",
       "      <td>0</td>\n",
       "      <td>0</td>\n",
       "      <td>0</td>\n",
       "      <td>0</td>\n",
       "      <td>1</td>\n",
       "      <td>0</td>\n",
       "      <td>0</td>\n",
       "      <td>0</td>\n",
       "      <td>1</td>\n",
       "      <td>0</td>\n",
       "      <td>0</td>\n",
       "      <td>0</td>\n",
       "      <td>1</td>\n",
       "      <td>0</td>\n",
       "      <td>0</td>\n",
       "      <td>0</td>\n",
       "      <td>0</td>\n",
       "      <td>0</td>\n",
       "      <td>1</td>\n",
       "      <td>0</td>\n",
       "      <td>0</td>\n",
       "      <td>0</td>\n",
       "      <td>0</td>\n",
       "      <td>0</td>\n",
       "      <td>1</td>\n",
       "      <td>0</td>\n",
       "      <td>0</td>\n",
       "      <td>1</td>\n",
       "      <td>0</td>\n",
       "      <td>0</td>\n",
       "      <td>1</td>\n",
       "      <td>0</td>\n",
       "      <td>0</td>\n",
       "      <td>0</td>\n",
       "      <td>1</td>\n",
       "      <td>0</td>\n",
       "      <td>0</td>\n",
       "      <td>0</td>\n",
       "    </tr>\n",
       "    <tr>\n",
       "      <th>830</th>\n",
       "      <td>2.0</td>\n",
       "      <td>19.0</td>\n",
       "      <td>47.689667</td>\n",
       "      <td>-122.376803</td>\n",
       "      <td>1</td>\n",
       "      <td>0</td>\n",
       "      <td>0</td>\n",
       "      <td>0</td>\n",
       "      <td>0</td>\n",
       "      <td>0</td>\n",
       "      <td>1</td>\n",
       "      <td>0</td>\n",
       "      <td>0</td>\n",
       "      <td>0</td>\n",
       "      <td>1</td>\n",
       "      <td>0</td>\n",
       "      <td>0</td>\n",
       "      <td>0</td>\n",
       "      <td>1</td>\n",
       "      <td>0</td>\n",
       "      <td>0</td>\n",
       "      <td>0</td>\n",
       "      <td>0</td>\n",
       "      <td>0</td>\n",
       "      <td>1</td>\n",
       "      <td>0</td>\n",
       "      <td>0</td>\n",
       "      <td>0</td>\n",
       "      <td>0</td>\n",
       "      <td>0</td>\n",
       "      <td>1</td>\n",
       "      <td>0</td>\n",
       "      <td>0</td>\n",
       "      <td>1</td>\n",
       "      <td>0</td>\n",
       "      <td>0</td>\n",
       "      <td>1</td>\n",
       "      <td>0</td>\n",
       "      <td>0</td>\n",
       "      <td>0</td>\n",
       "      <td>0</td>\n",
       "      <td>0</td>\n",
       "      <td>0</td>\n",
       "      <td>1</td>\n",
       "    </tr>\n",
       "    <tr>\n",
       "      <th>2110</th>\n",
       "      <td>1.0</td>\n",
       "      <td>3.0</td>\n",
       "      <td>47.604135</td>\n",
       "      <td>-122.338758</td>\n",
       "      <td>0</td>\n",
       "      <td>1</td>\n",
       "      <td>0</td>\n",
       "      <td>0</td>\n",
       "      <td>0</td>\n",
       "      <td>0</td>\n",
       "      <td>1</td>\n",
       "      <td>0</td>\n",
       "      <td>0</td>\n",
       "      <td>1</td>\n",
       "      <td>0</td>\n",
       "      <td>0</td>\n",
       "      <td>0</td>\n",
       "      <td>0</td>\n",
       "      <td>0</td>\n",
       "      <td>0</td>\n",
       "      <td>0</td>\n",
       "      <td>1</td>\n",
       "      <td>0</td>\n",
       "      <td>0</td>\n",
       "      <td>1</td>\n",
       "      <td>0</td>\n",
       "      <td>0</td>\n",
       "      <td>0</td>\n",
       "      <td>0</td>\n",
       "      <td>0</td>\n",
       "      <td>1</td>\n",
       "      <td>0</td>\n",
       "      <td>0</td>\n",
       "      <td>1</td>\n",
       "      <td>0</td>\n",
       "      <td>0</td>\n",
       "      <td>1</td>\n",
       "      <td>0</td>\n",
       "      <td>0</td>\n",
       "      <td>0</td>\n",
       "      <td>0</td>\n",
       "      <td>0</td>\n",
       "      <td>0</td>\n",
       "      <td>1</td>\n",
       "    </tr>\n",
       "  </tbody>\n",
       "</table>\n",
       "</div>"
      ],
      "text/plain": [
       "      Call_Priority_Code  Total_Service_Time   Latitude   Longitude  \\\n",
       "65                   2.0                51.0  47.708106 -122.317846   \n",
       "336                  1.0                 3.0  47.725511 -122.342300   \n",
       "829                  2.0                19.0  47.689667 -122.376803   \n",
       "830                  2.0                19.0  47.689667 -122.376803   \n",
       "2110                 1.0                 3.0  47.604135 -122.338758   \n",
       "\n",
       "      Disposition_ARRESTED  Disposition_EMERGENT DETENTION/ITA  \\\n",
       "65                       1                                   0   \n",
       "336                      1                                   0   \n",
       "829                      1                                   0   \n",
       "830                      1                                   0   \n",
       "2110                     0                                   1   \n",
       "\n",
       "      Disposition_OTHER  Exhibiting_Behavior_BELLIGERENT/UNCOOPERATIVE  \\\n",
       "65                    0                                              0   \n",
       "336                   0                                              0   \n",
       "829                   0                                              0   \n",
       "830                   0                                              0   \n",
       "2110                  0                                              0   \n",
       "\n",
       "      Exhibiting_Behavior_DISORDERLY/DISRUPTIVE  \\\n",
       "65                                            0   \n",
       "336                                           0   \n",
       "829                                           0   \n",
       "830                                           0   \n",
       "2110                                          0   \n",
       "\n",
       "      Exhibiting_Behavior_MENTAL CRISIS  Exhibiting_Behavior_OTHER  \\\n",
       "65                                    0                          1   \n",
       "336                                   0                          1   \n",
       "829                                   0                          1   \n",
       "830                                   0                          1   \n",
       "2110                                  0                          1   \n",
       "\n",
       "      Exhibiting_Behavior_SELF-THREATENING  \\\n",
       "65                                       0   \n",
       "336                                      0   \n",
       "829                                      0   \n",
       "830                                      0   \n",
       "2110                                     0   \n",
       "\n",
       "      Exhibiting_Behavior_THREATENING/AGGRESSIVE  Subject_Gender_F  \\\n",
       "65                                             0                 0   \n",
       "336                                            0                 0   \n",
       "829                                            0                 0   \n",
       "830                                            0                 0   \n",
       "2110                                           0                 1   \n",
       "\n",
       "      Subject_Gender_M  Subject_Gender_N  Subject_Race_AIAN/HPI  \\\n",
       "65                   1                 0                      0   \n",
       "336                  1                 0                      0   \n",
       "829                  1                 0                      0   \n",
       "830                  1                 0                      0   \n",
       "2110                 0                 0                      0   \n",
       "\n",
       "      Subject_Race_Asian  Subject_Race_Black or African American  \\\n",
       "65                     0                                       1   \n",
       "336                    0                                       1   \n",
       "829                    0                                       1   \n",
       "830                    0                                       1   \n",
       "2110                   0                                       0   \n",
       "\n",
       "      Subject_Race_Hispanic or Latino  Subject_Race_Not Specified  \\\n",
       "65                                  0                           0   \n",
       "336                                 0                           0   \n",
       "829                                 0                           0   \n",
       "830                                 0                           0   \n",
       "2110                                0                           0   \n",
       "\n",
       "      Subject_Race_White  Techniques_Used_GURNEY  Techniques_Used_HANDCUFFING  \\\n",
       "65                     0                       0                            0   \n",
       "336                    0                       0                            0   \n",
       "829                    0                       0                            0   \n",
       "830                    0                       0                            0   \n",
       "2110                   1                       0                            0   \n",
       "\n",
       "      Techniques_Used_OTHER  Techniques_Used_VERBALIZATION  \\\n",
       "65                        1                              0   \n",
       "336                       1                              0   \n",
       "829                       1                              0   \n",
       "830                       1                              0   \n",
       "2110                      1                              0   \n",
       "\n",
       "      Weapons_Involved_BLUNT OBJECT/STRIKING IMPLEMENT  \\\n",
       "65                                                   0   \n",
       "336                                                  0   \n",
       "829                                                  0   \n",
       "830                                                  0   \n",
       "2110                                                 0   \n",
       "\n",
       "      Weapons_Involved_FIREARM  \\\n",
       "65                           0   \n",
       "336                          0   \n",
       "829                          0   \n",
       "830                          0   \n",
       "2110                         0   \n",
       "\n",
       "      Weapons_Involved_KNIFE/CUTTING/STABBING INSTRUMENT  \\\n",
       "65                                                    0    \n",
       "336                                                   0    \n",
       "829                                                   0    \n",
       "830                                                   0    \n",
       "2110                                                  0    \n",
       "\n",
       "      Weapons_Involved_NONE/NOT APPLICABLE  Weapons_Involved_OTHER  \\\n",
       "65                                       0                       1   \n",
       "336                                      0                       1   \n",
       "829                                      0                       1   \n",
       "830                                      0                       1   \n",
       "2110                                     0                       1   \n",
       "\n",
       "      Weapons_Involved_PERSONAL DEFENSE WEAPONS  \\\n",
       "65                                            0   \n",
       "336                                           0   \n",
       "829                                           0   \n",
       "830                                           0   \n",
       "2110                                          0   \n",
       "\n",
       "      Weapons_Involved_PERSONAL WEAPONS (HANDS, FEET, ETC.)  \\\n",
       "65                                                    0       \n",
       "336                                                   0       \n",
       "829                                                   0       \n",
       "830                                                   0       \n",
       "2110                                                  0       \n",
       "\n",
       "      CIT_Certified_Ind_N  CIT_Certified_Ind_Y  Officer_Gender_F  \\\n",
       "65                      1                    0                 0   \n",
       "336                     1                    0                 0   \n",
       "829                     1                    0                 0   \n",
       "830                     1                    0                 0   \n",
       "2110                    1                    0                 0   \n",
       "\n",
       "      Officer_Gender_M  Officer_Race_AIAN/HPI  Officer_Race_Asian  \\\n",
       "65                   1                      0                   0   \n",
       "336                  1                      0                   0   \n",
       "829                  1                      0                   0   \n",
       "830                  1                      0                   0   \n",
       "2110                 1                      0                   0   \n",
       "\n",
       "      Officer_Race_Black or African American  Officer_Race_Hispanic or Latino  \\\n",
       "65                                         0                                0   \n",
       "336                                        0                                0   \n",
       "829                                        0                                1   \n",
       "830                                        0                                0   \n",
       "2110                                       0                                0   \n",
       "\n",
       "      Officer_Race_Not Specified  Officer_Race_Two or More Races  \\\n",
       "65                             0                               0   \n",
       "336                            0                               0   \n",
       "829                            0                               0   \n",
       "830                            0                               0   \n",
       "2110                           0                               0   \n",
       "\n",
       "      Officer_Race_White  \n",
       "65                     1  \n",
       "336                    1  \n",
       "829                    0  \n",
       "830                    1  \n",
       "2110                   1  "
      ]
     },
     "execution_count": 36,
     "metadata": {},
     "output_type": "execute_result"
    }
   ],
   "source": [
    "y = df_model['UoF_Indicator']\n",
    "X = pd.get_dummies(df_model.loc[:,df_model.columns!='UoF_Indicator'])\n",
    "X.head()"
   ]
  },
  {
   "cell_type": "code",
   "execution_count": 37,
   "metadata": {},
   "outputs": [
    {
     "data": {
      "text/plain": [
       "(5079, 44)"
      ]
     },
     "execution_count": 37,
     "metadata": {},
     "output_type": "execute_result"
    }
   ],
   "source": [
    "X.shape"
   ]
  },
  {
   "cell_type": "code",
   "execution_count": 38,
   "metadata": {},
   "outputs": [],
   "source": [
    "# implementing train-test-split\n",
    "X_train, X_test, y_train, y_test = train_test_split(X, y, test_size=0.2, random_state=66)"
   ]
  },
  {
   "cell_type": "code",
   "execution_count": 39,
   "metadata": {},
   "outputs": [
    {
     "data": {
      "text/plain": [
       "YES    3667\n",
       "NO      396\n",
       "Name: UoF_Indicator, dtype: int64"
      ]
     },
     "execution_count": 39,
     "metadata": {},
     "output_type": "execute_result"
    }
   ],
   "source": [
    "y_train.value_counts()"
   ]
  },
  {
   "cell_type": "markdown",
   "metadata": {},
   "source": [
    "## EDA on numerical variables"
   ]
  },
  {
   "cell_type": "code",
   "execution_count": 40,
   "metadata": {},
   "outputs": [],
   "source": [
    "df_train = pd.concat([y_train.reset_index(drop=True), X_train.reset_index(drop=True)], axis=1)"
   ]
  },
  {
   "cell_type": "code",
   "execution_count": 41,
   "metadata": {},
   "outputs": [],
   "source": [
    "def boxplot_eda(df_train, response_var, feature_int):\n",
    "    plt.figure(figsize=(6, 6))\n",
    "    ax = sns.boxplot(x=response_var, y=feature_int, data=df_train)\n",
    "    ax.set_xticklabels(ax.get_xticklabels(), rotation=0, horizontalalignment=\"right\")\n",
    "    ax.set_title(response_var)\n",
    "    add_stat_annotation(ax, data=df_train, x=response_var, y=feature_int, order=['YES', 'NO'],\n",
    "                        box_pairs=[(\"YES\", \"NO\")],\n",
    "                        test='Mann-Whitney', text_format='star', loc='inside', verbose=2)"
   ]
  },
  {
   "cell_type": "code",
   "execution_count": 42,
   "metadata": {},
   "outputs": [
    {
     "name": "stdout",
     "output_type": "stream",
     "text": [
      "p-value annotation legend:\n",
      "ns: 5.00e-02 < p <= 1.00e+00\n",
      "*: 1.00e-02 < p <= 5.00e-02\n",
      "**: 1.00e-03 < p <= 1.00e-02\n",
      "***: 1.00e-04 < p <= 1.00e-03\n",
      "****: p <= 1.00e-04\n",
      "\n",
      "YES v.s. NO: Mann-Whitney-Wilcoxon test two-sided with Bonferroni correction, P_val=7.876e-02 U_stat=7.650e+05\n"
     ]
    },
    {
     "data": {
      "image/png": "[encoded data removed]",
      "text/plain": [
       "<Figure size 432x432 with 1 Axes>"
      ]
     },
     "metadata": {
      "needs_background": "light"
     },
     "output_type": "display_data"
    }
   ],
   "source": [
    "boxplot_eda(df_train, response_var = 'UoF_Indicator', feature_int=\"Total_Service_Time\")"
   ]
  },
  {
   "cell_type": "code",
   "execution_count": 43,
   "metadata": {},
   "outputs": [
    {
     "name": "stdout",
     "output_type": "stream",
     "text": [
      "p-value annotation legend:\n",
      "ns: 5.00e-02 < p <= 1.00e+00\n",
      "*: 1.00e-02 < p <= 5.00e-02\n",
      "**: 1.00e-03 < p <= 1.00e-02\n",
      "***: 1.00e-04 < p <= 1.00e-03\n",
      "****: p <= 1.00e-04\n",
      "\n",
      "YES v.s. NO: Mann-Whitney-Wilcoxon test two-sided with Bonferroni correction, P_val=7.587e-02 U_stat=7.654e+05\n"
     ]
    },
    {
     "data": {
      "image/png": "[encoded data removed]",
      "text/plain": [
       "<Figure size 432x432 with 1 Axes>"
      ]
     },
     "metadata": {
      "needs_background": "light"
     },
     "output_type": "display_data"
    }
   ],
   "source": [
    "boxplot_eda(df_train, response_var = 'UoF_Indicator', feature_int=\"Latitude\")"
   ]
  },
  {
   "cell_type": "code",
   "execution_count": 44,
   "metadata": {},
   "outputs": [
    {
     "name": "stdout",
     "output_type": "stream",
     "text": [
      "p-value annotation legend:\n",
      "ns: 5.00e-02 < p <= 1.00e+00\n",
      "*: 1.00e-02 < p <= 5.00e-02\n",
      "**: 1.00e-03 < p <= 1.00e-02\n",
      "***: 1.00e-04 < p <= 1.00e-03\n",
      "****: p <= 1.00e-04\n",
      "\n",
      "YES v.s. NO: Mann-Whitney-Wilcoxon test two-sided with Bonferroni correction, P_val=7.789e-08 U_stat=6.069e+05\n"
     ]
    },
    {
     "data": {
      "image/png": "[encoded data removed]",
      "text/plain": [
       "<Figure size 432x432 with 1 Axes>"
      ]
     },
     "metadata": {
      "needs_background": "light"
     },
     "output_type": "display_data"
    }
   ],
   "source": [
    "boxplot_eda(df_train, response_var = 'UoF_Indicator', feature_int=\"Longitude\")"
   ]
  },
  {
   "cell_type": "markdown",
   "metadata": {},
   "source": [
    "## EDA on categorical variables"
   ]
  },
  {
   "cell_type": "code",
   "execution_count": 45,
   "metadata": {},
   "outputs": [
    {
     "data": {
      "text/html": [
       "<div>\n",
       "<style scoped>\n",
       "    .dataframe tbody tr th:only-of-type {\n",
       "        vertical-align: middle;\n",
       "    }\n",
       "\n",
       "    .dataframe tbody tr th {\n",
       "        vertical-align: top;\n",
       "    }\n",
       "\n",
       "    .dataframe thead th {\n",
       "        text-align: right;\n",
       "    }\n",
       "</style>\n",
       "<table border=\"1\" class=\"dataframe\">\n",
       "  <thead>\n",
       "    <tr style=\"text-align: right;\">\n",
       "      <th>Subject_Race_Black or African American</th>\n",
       "      <th>0</th>\n",
       "      <th>1</th>\n",
       "    </tr>\n",
       "    <tr>\n",
       "      <th>UoF_Indicator</th>\n",
       "      <th></th>\n",
       "      <th></th>\n",
       "    </tr>\n",
       "  </thead>\n",
       "  <tbody>\n",
       "    <tr>\n",
       "      <th>NO</th>\n",
       "      <td>264</td>\n",
       "      <td>132</td>\n",
       "    </tr>\n",
       "    <tr>\n",
       "      <th>YES</th>\n",
       "      <td>3054</td>\n",
       "      <td>613</td>\n",
       "    </tr>\n",
       "  </tbody>\n",
       "</table>\n",
       "</div>"
      ],
      "text/plain": [
       "Subject_Race_Black or African American     0    1\n",
       "UoF_Indicator                                    \n",
       "NO                                       264  132\n",
       "YES                                     3054  613"
      ]
     },
     "execution_count": 45,
     "metadata": {},
     "output_type": "execute_result"
    }
   ],
   "source": [
    "#create contingency table\n",
    "data = pd.crosstab(index=df_train['UoF_Indicator'], columns=df_train['Subject_Race_Black or African American']) #,  margins=True)\n",
    "data"
   ]
  },
  {
   "cell_type": "code",
   "execution_count": 46,
   "metadata": {},
   "outputs": [
    {
     "data": {
      "text/plain": [
       "YES    3667\n",
       "NO      396\n",
       "Name: UoF_Indicator, dtype: int64"
      ]
     },
     "execution_count": 46,
     "metadata": {},
     "output_type": "execute_result"
    }
   ],
   "source": [
    "df_train['UoF_Indicator'].value_counts()"
   ]
  },
  {
   "cell_type": "code",
   "execution_count": 47,
   "metadata": {},
   "outputs": [
    {
     "name": "stdout",
     "output_type": "stream",
     "text": [
      "p value is 8.296446056055359e-16\n",
      "Dependent (reject H0)\n"
     ]
    }
   ],
   "source": [
    "# Chi-square\n",
    "from scipy.stats import chi2_contingency\n",
    "stat, p, dof, expected = chi2_contingency(data)\n",
    "# interpret p-value\n",
    "alpha = 0.05\n",
    "print(\"p value is \" + str(p))\n",
    "if p <= alpha:\n",
    "    print('Dependent (reject H0)')\n",
    "else:\n",
    "    print('Independent (H0 holds true)')"
   ]
  },
  {
   "cell_type": "markdown",
   "metadata": {},
   "source": [
    "## Class rebalance"
   ]
  },
  {
   "cell_type": "code",
   "execution_count": 48,
   "metadata": {},
   "outputs": [
    {
     "name": "stdout",
     "output_type": "stream",
     "text": [
      "Requirement already satisfied: imbalanced-learn in /Users/senosam/opt/anaconda3/lib/python3.7/site-packages (0.8.0)\n",
      "Requirement already satisfied: numpy>=1.13.3 in /Users/senosam/opt/anaconda3/lib/python3.7/site-packages (from imbalanced-learn) (1.19.5)\n",
      "Requirement already satisfied: scipy>=0.19.1 in /Users/senosam/opt/anaconda3/lib/python3.7/site-packages (from imbalanced-learn) (1.6.3)\n",
      "Requirement already satisfied: scikit-learn>=0.24 in /Users/senosam/opt/anaconda3/lib/python3.7/site-packages (from imbalanced-learn) (0.24.2)\n",
      "Requirement already satisfied: joblib>=0.11 in /Users/senosam/opt/anaconda3/lib/python3.7/site-packages (from imbalanced-learn) (0.16.0)\n",
      "Requirement already satisfied: threadpoolctl>=2.0.0 in /Users/senosam/opt/anaconda3/lib/python3.7/site-packages (from scikit-learn>=0.24->imbalanced-learn) (2.1.0)\n",
      "\u001b[33mWARNING: You are using pip version 21.1.3; however, version 21.2.3 is available.\n",
      "You should consider upgrading via the '/Users/senosam/opt/anaconda3/bin/python -m pip install --upgrade pip' command.\u001b[0m\n",
      "Note: you may need to restart the kernel to use updated packages.\n"
     ]
    }
   ],
   "source": [
    "pip install imbalanced-learn"
   ]
  },
  {
   "cell_type": "code",
   "execution_count": 49,
   "metadata": {},
   "outputs": [
    {
     "name": "stdout",
     "output_type": "stream",
     "text": [
      "Shape of X before SMOTE: (4063, 44)\n",
      "Shape of X after SMOTE: (7334, 44)\n",
      "\n",
      "Balance of positive and negative classes (%):\n"
     ]
    },
    {
     "data": {
      "text/plain": [
       "NO     50.0\n",
       "YES    50.0\n",
       "Name: UoF_Indicator, dtype: float64"
      ]
     },
     "execution_count": 49,
     "metadata": {},
     "output_type": "execute_result"
    }
   ],
   "source": [
    "from imblearn.over_sampling import SMOTE \n",
    "X_train_bf = X_train\n",
    "\n",
    "sm = SMOTE(random_state=42)\n",
    "\n",
    "X_train, y_train = sm.fit_resample(X_train, y_train)\n",
    "\n",
    "print(f'''Shape of X before SMOTE: {X_train_bf.shape}\n",
    "Shape of X after SMOTE: {X_train.shape}''')\n",
    "\n",
    "print('\\nBalance of positive and negative classes (%):')\n",
    "y_train.value_counts(normalize=True) * 100"
   ]
  },
  {
   "cell_type": "code",
   "execution_count": 50,
   "metadata": {},
   "outputs": [
    {
     "data": {
      "text/plain": [
       "NO     3667\n",
       "YES    3667\n",
       "Name: UoF_Indicator, dtype: int64"
      ]
     },
     "execution_count": 50,
     "metadata": {},
     "output_type": "execute_result"
    }
   ],
   "source": [
    "y_train.value_counts()"
   ]
  },
  {
   "cell_type": "code",
   "execution_count": 51,
   "metadata": {},
   "outputs": [
    {
     "data": {
      "text/plain": [
       "(7334, 44)"
      ]
     },
     "execution_count": 51,
     "metadata": {},
     "output_type": "execute_result"
    }
   ],
   "source": [
    "X_train.shape"
   ]
  },
  {
   "cell_type": "markdown",
   "metadata": {},
   "source": [
    "## Model training: Random Forest"
   ]
  },
  {
   "cell_type": "code",
   "execution_count": 52,
   "metadata": {},
   "outputs": [
    {
     "name": "stdout",
     "output_type": "stream",
     "text": [
      "Fitting 3 folds for each of 500 candidates, totalling 1500 fits\n"
     ]
    },
    {
     "data": {
      "text/plain": [
       "GridSearchCV(cv=3, estimator=RandomForestClassifier(random_state=1), n_jobs=10,\n",
       "             param_grid={'max_depth': [5, 8, 15, 25, 30],\n",
       "                         'min_samples_leaf': [1, 2, 5, 10],\n",
       "                         'min_samples_split': [2, 5, 10, 15, 100],\n",
       "                         'n_estimators': [100, 300, 500, 800, 1200]},\n",
       "             scoring='roc_auc', verbose=True)"
      ]
     },
     "execution_count": 52,
     "metadata": {},
     "output_type": "execute_result"
    }
   ],
   "source": [
    "# Hyperparameter tuning\n",
    "rfc = RandomForestClassifier(random_state = 1)\n",
    "n_estimators = [100, 300, 500, 800, 1200]\n",
    "max_depth = [5, 8, 15, 25, 30]\n",
    "min_samples_split = [2, 5, 10, 15, 100]\n",
    "min_samples_leaf = [1, 2, 5, 10] \n",
    "\n",
    "hyperF = dict(n_estimators = n_estimators, max_depth = max_depth,  \n",
    "              min_samples_split = min_samples_split, \n",
    "             min_samples_leaf = min_samples_leaf)\n",
    "\n",
    "gridF = GridSearchCV(rfc, hyperF, \n",
    "                     scoring = 'roc_auc',\n",
    "                     cv = 3, \n",
    "                     verbose = True, \n",
    "                     n_jobs = 10)\n",
    "bestF = gridF.fit(X_train, y_train)\n",
    "bestF"
   ]
  },
  {
   "cell_type": "code",
   "execution_count": 53,
   "metadata": {},
   "outputs": [
    {
     "data": {
      "text/plain": [
       "{'max_depth': 25,\n",
       " 'min_samples_leaf': 1,\n",
       " 'min_samples_split': 5,\n",
       " 'n_estimators': 300}"
      ]
     },
     "execution_count": 53,
     "metadata": {},
     "output_type": "execute_result"
    }
   ],
   "source": [
    "bestF.best_params_"
   ]
  },
  {
   "cell_type": "code",
   "execution_count": 54,
   "metadata": {},
   "outputs": [],
   "source": [
    "# random forest model creation\n",
    "rfc = RandomForestClassifier(random_state = 1, \n",
    "                             max_depth = 30,\n",
    "                             n_estimators = 500, \n",
    "                             min_samples_split = 2, \n",
    "                             min_samples_leaf = 1)\n",
    "rfc.fit(X_train,y_train)\n",
    "# predictions\n",
    "rfc_predict = rfc.predict(X_test)\n",
    "# Probabilities for each class\n",
    "rfc_probs = rfc.predict_proba(X_test)[:, 1]"
   ]
  },
  {
   "cell_type": "code",
   "execution_count": 55,
   "metadata": {},
   "outputs": [],
   "source": [
    "# Evaluating performance\n",
    "rfc_cv_score = cross_val_score(rfc, X_train, y_train, cv=10, scoring='roc_auc')\n",
    "# Calculate roc auc test\n",
    "roc_auc_value = roc_auc_score(y_test, rfc_probs)"
   ]
  },
  {
   "cell_type": "code",
   "execution_count": 56,
   "metadata": {},
   "outputs": [
    {
     "name": "stdout",
     "output_type": "stream",
     "text": [
      "=== Confusion Matrix ===\n",
      "[[ 75  41]\n",
      " [ 11 889]]\n",
      "\n",
      "\n",
      "=== Classification Report ===\n",
      "              precision    recall  f1-score   support\n",
      "\n",
      "          NO       0.87      0.65      0.74       116\n",
      "         YES       0.96      0.99      0.97       900\n",
      "\n",
      "    accuracy                           0.95      1016\n",
      "   macro avg       0.91      0.82      0.86      1016\n",
      "weighted avg       0.95      0.95      0.95      1016\n",
      "\n",
      "\n",
      "\n",
      "=== All AUC Scores ===\n",
      "[0.98623496 0.99925012 0.99971044 0.99983666 0.99997022 0.9992183\n",
      " 0.99984366 0.99983994 0.99741293 0.99976549]\n",
      "\n",
      "\n",
      "=== Mean AUC Score ===\n",
      "Mean AUC Score - Random Forest:  0.9981082720537298\n",
      "=== Test AUC Score ===\n",
      "0.9559961685823755\n"
     ]
    }
   ],
   "source": [
    "print(\"=== Confusion Matrix ===\")\n",
    "print(confusion_matrix(y_test, rfc_predict))\n",
    "print('\\n')\n",
    "print(\"=== Classification Report ===\")\n",
    "print(classification_report(y_test, rfc_predict))\n",
    "print('\\n')\n",
    "print(\"=== All AUC Scores ===\")\n",
    "print(rfc_cv_score)\n",
    "print('\\n')\n",
    "print(\"=== Mean AUC Score ===\")\n",
    "print(\"Mean AUC Score - Random Forest: \", rfc_cv_score.mean())\n",
    "print(\"=== Test AUC Score ===\")\n",
    "print(roc_auc_value)"
   ]
  },
  {
   "cell_type": "code",
   "execution_count": 57,
   "metadata": {},
   "outputs": [
    {
     "data": {
      "text/plain": [
       "array(['NO', 'YES'], dtype=object)"
      ]
     },
     "execution_count": 57,
     "metadata": {},
     "output_type": "execute_result"
    }
   ],
   "source": [
    "rfc.classes_"
   ]
  },
  {
   "cell_type": "code",
   "execution_count": 58,
   "metadata": {},
   "outputs": [
    {
     "data": {
      "text/plain": [
       "Text(0.5, 0, 'Random Forest Feature Importance')"
      ]
     },
     "execution_count": 58,
     "metadata": {},
     "output_type": "execute_result"
    },
    {
     "data": {
      "image/png": "[encoded data removed]",
      "text/plain": [
       "<Figure size 720x720 with 1 Axes>"
      ]
     },
     "metadata": {
      "needs_background": "light"
     },
     "output_type": "display_data"
    }
   ],
   "source": [
    "# Feature importance\n",
    "plt.figure(figsize=(10, 10))\n",
    "sorted_idx = rfc.feature_importances_.argsort()\n",
    "plt.barh(X_train.columns[sorted_idx], rfc.feature_importances_[sorted_idx])\n",
    "plt.xlabel(\"Random Forest Feature Importance\")"
   ]
  },
  {
   "cell_type": "code",
   "execution_count": 59,
   "metadata": {},
   "outputs": [
    {
     "name": "stderr",
     "output_type": "stream",
     "text": [
      "A worker stopped while some jobs were given to the executor. This can be caused by a too short worker timeout or by a memory leak.\n"
     ]
    },
    {
     "data": {
      "text/plain": [
       "(array([0.   , 0.005, 0.01 , 0.015, 0.02 , 0.025, 0.03 , 0.035, 0.04 ]),\n",
       " [Text(0, 0, ''),\n",
       "  Text(0, 0, ''),\n",
       "  Text(0, 0, ''),\n",
       "  Text(0, 0, ''),\n",
       "  Text(0, 0, ''),\n",
       "  Text(0, 0, ''),\n",
       "  Text(0, 0, ''),\n",
       "  Text(0, 0, ''),\n",
       "  Text(0, 0, '')])"
      ]
     },
     "execution_count": 59,
     "metadata": {},
     "output_type": "execute_result"
    },
    {
     "data": {
      "image/png": "[encoded data removed]",
      "text/plain": [
       "<Figure size 720x720 with 1 Axes>"
      ]
     },
     "metadata": {
      "needs_background": "light"
     },
     "output_type": "display_data"
    }
   ],
   "source": [
    "## Feature importance based on feature permutation\n",
    "plt.figure(figsize=(10, 10))\n",
    "perm_importance = permutation_importance(\n",
    "    rfc, X_test, y_test, n_repeats=10, random_state=42, n_jobs=6)\n",
    "#forest_importances = pd.Series(result.importances_mean, index=X.columns)\n",
    "sorted_idx = (-perm_importance.importances_mean).argsort()[:10][::-1]\n",
    "plt.barh(X_test.columns[sorted_idx], perm_importance.importances_mean[sorted_idx])\n",
    "plt.xlabel(\"Permutation Importance\",fontsize=14)\n",
    "plt.yticks(ha='right', fontsize=12)\n",
    "plt.xticks(ha='right', fontsize=10)"
   ]
  },
  {
   "cell_type": "code",
   "execution_count": 60,
   "metadata": {},
   "outputs": [
    {
     "data": {
      "text/plain": [
       "(array([0.   , 0.005, 0.01 , 0.015, 0.02 , 0.025, 0.03 , 0.035, 0.04 ]),\n",
       " [Text(0, 0, ''),\n",
       "  Text(0, 0, ''),\n",
       "  Text(0, 0, ''),\n",
       "  Text(0, 0, ''),\n",
       "  Text(0, 0, ''),\n",
       "  Text(0, 0, ''),\n",
       "  Text(0, 0, ''),\n",
       "  Text(0, 0, ''),\n",
       "  Text(0, 0, '')])"
      ]
     },
     "execution_count": 60,
     "metadata": {},
     "output_type": "execute_result"
    },
    {
     "data": {
      "image/png": "[encoded data removed]",
      "text/plain": [
       "<Figure size 360x360 with 1 Axes>"
      ]
     },
     "metadata": {
      "needs_background": "light"
     },
     "output_type": "display_data"
    }
   ],
   "source": [
    "plt.figure(figsize=(5, 5))\n",
    "sorted_idx = (-perm_importance.importances_mean).argsort()[:5][::-1]\n",
    "plt.barh(X_test.columns[sorted_idx], perm_importance.importances_mean[sorted_idx])\n",
    "plt.xlabel(\"Permutation Importance\",fontsize=14)\n",
    "plt.yticks(ha='right', fontsize=12)\n",
    "plt.xticks(ha='right', fontsize=10)"
   ]
  },
  {
   "cell_type": "code",
   "execution_count": 61,
   "metadata": {},
   "outputs": [
    {
     "data": {
      "image/png": "[encoded data removed]",
      "text/plain": [
       "<Figure size 576x684 with 1 Axes>"
      ]
     },
     "metadata": {
      "needs_background": "light"
     },
     "output_type": "display_data"
    }
   ],
   "source": [
    "shap_values = shap.TreeExplainer(rfc).shap_values(X_test)\n",
    "shap.summary_plot(shap_values, X_test, plot_type=\"bar\", class_names=rfc.classes_)"
   ]
  },
  {
   "cell_type": "code",
   "execution_count": 62,
   "metadata": {},
   "outputs": [
    {
     "data": {
      "image/png": "[encoded data removed]",
      "text/plain": [
       "<Figure size 576x684 with 2 Axes>"
      ]
     },
     "metadata": {
      "needs_background": "light"
     },
     "output_type": "display_data"
    }
   ],
   "source": [
    "#YES\n",
    "f = plt.figure()\n",
    "shap.summary_plot(shap_values[0], X_test, class_names=rfc.classes_)"
   ]
  },
  {
   "cell_type": "code",
   "execution_count": 63,
   "metadata": {},
   "outputs": [
    {
     "data": {
      "image/png": "[encoded data removed]",
      "text/plain": [
       "<Figure size 576x684 with 2 Axes>"
      ]
     },
     "metadata": {
      "needs_background": "light"
     },
     "output_type": "display_data"
    }
   ],
   "source": [
    "#NO\n",
    "f = plt.figure()\n",
    "shap.summary_plot(shap_values[1], X_test, class_names=rfc.classes_)"
   ]
  },
  {
   "cell_type": "markdown",
   "metadata": {},
   "source": [
    "## Model Training: XGBoost"
   ]
  },
  {
   "cell_type": "code",
   "execution_count": 64,
   "metadata": {},
   "outputs": [
    {
     "name": "stdout",
     "output_type": "stream",
     "text": [
      "Fitting 3 folds for each of 96 candidates, totalling 288 fits\n"
     ]
    },
    {
     "name": "stderr",
     "output_type": "stream",
     "text": [
      "The use of label encoder in XGBClassifier is deprecated and will be removed in a future release. To remove this warning, do the following: 1) Pass option use_label_encoder=False when constructing XGBClassifier object; and 2) Encode your labels (y) as integers starting with 0, i.e. 0, 1, 2, ..., [num_class - 1].\n"
     ]
    },
    {
     "name": "stdout",
     "output_type": "stream",
     "text": [
      "[22:33:54] WARNING: /Users/travis/build/dmlc/xgboost/src/learner.cc:1095: Starting in XGBoost 1.3.0, the default evaluation metric used with the objective 'binary:logistic' was changed from 'error' to 'logloss'. Explicitly set eval_metric if you'd like to restore the old behavior.\n"
     ]
    },
    {
     "data": {
      "text/plain": [
       "GridSearchCV(cv=3,\n",
       "             estimator=XGBClassifier(base_score=None, booster=None,\n",
       "                                     colsample_bylevel=None,\n",
       "                                     colsample_bynode=None,\n",
       "                                     colsample_bytree=None, gamma=None,\n",
       "                                     gpu_id=None, importance_type='gain',\n",
       "                                     interaction_constraints=None,\n",
       "                                     learning_rate=None, max_delta_step=None,\n",
       "                                     max_depth=None, min_child_weight=None,\n",
       "                                     missing=nan, monotone_constraints=None,\n",
       "                                     n_estimators=100, n_jobs=None, nthread=4,\n",
       "                                     num_parallel_tree=None, random_state=0,\n",
       "                                     reg_alpha=None, reg_lambda=None,\n",
       "                                     scale_pos_weight=None, subsample=None,\n",
       "                                     tree_method=None, validate_parameters=None,\n",
       "                                     verbosity=None),\n",
       "             n_jobs=12,\n",
       "             param_grid={'learning_rate': [0.1, 0.01, 0.05],\n",
       "                         'max_depth': range(2, 10),\n",
       "                         'n_estimators': range(60, 220, 40)},\n",
       "             scoring='roc_auc', verbose=True)"
      ]
     },
     "execution_count": 64,
     "metadata": {},
     "output_type": "execute_result"
    }
   ],
   "source": [
    "# Hyperparameter tuning\n",
    "xgbc = XGBClassifier(\n",
    "    objective= 'binary:logistic',\n",
    "    nthread=4,\n",
    "    random_state=0\n",
    ")\n",
    "parameters = {\n",
    "    'max_depth': range (2, 10, 1),\n",
    "    'n_estimators': range(60, 220, 40),\n",
    "    'learning_rate': [0.1, 0.01, 0.05]\n",
    "}\n",
    "grid_search = GridSearchCV(\n",
    "    estimator=xgbc,\n",
    "    param_grid=parameters,\n",
    "    scoring = 'roc_auc',\n",
    "    n_jobs = 12,\n",
    "    cv = 3,\n",
    "    verbose=True\n",
    ")\n",
    "grid_search.fit(X_train, y_train)"
   ]
  },
  {
   "cell_type": "code",
   "execution_count": 65,
   "metadata": {},
   "outputs": [
    {
     "data": {
      "text/plain": [
       "{'learning_rate': 0.1, 'max_depth': 9, 'n_estimators': 100}"
      ]
     },
     "execution_count": 65,
     "metadata": {},
     "output_type": "execute_result"
    }
   ],
   "source": [
    "# show best hyperparameters\n",
    "grid_search.best_params_"
   ]
  },
  {
   "cell_type": "code",
   "execution_count": 66,
   "metadata": {},
   "outputs": [
    {
     "name": "stdout",
     "output_type": "stream",
     "text": [
      "[22:33:56] WARNING: /Users/travis/build/dmlc/xgboost/src/learner.cc:1095: Starting in XGBoost 1.3.0, the default evaluation metric used with the objective 'binary:logistic' was changed from 'error' to 'logloss'. Explicitly set eval_metric if you'd like to restore the old behavior.\n"
     ]
    }
   ],
   "source": [
    "# train model\n",
    "xgbc = XGBClassifier(\n",
    "    random_state=0,\n",
    "    learning_rate = 0.05,\n",
    "    max_depth = 9,\n",
    "    n_estimators = 180,\n",
    "    )\n",
    "xgbc.fit(X_train, y_train)\n",
    "\n",
    "# predictions\n",
    "xgbc_predict = xgbc.predict(X_test)\n",
    "# Probabilities for each class\n",
    "xgbc_probs = xgbc.predict_proba(X_test)[:, 1]"
   ]
  },
  {
   "cell_type": "code",
   "execution_count": 67,
   "metadata": {},
   "outputs": [
    {
     "name": "stderr",
     "output_type": "stream",
     "text": [
      "The use of label encoder in XGBClassifier is deprecated and will be removed in a future release. To remove this warning, do the following: 1) Pass option use_label_encoder=False when constructing XGBClassifier object; and 2) Encode your labels (y) as integers starting with 0, i.e. 0, 1, 2, ..., [num_class - 1].\n"
     ]
    },
    {
     "name": "stdout",
     "output_type": "stream",
     "text": [
      "[22:33:57] WARNING: /Users/travis/build/dmlc/xgboost/src/learner.cc:1095: Starting in XGBoost 1.3.0, the default evaluation metric used with the objective 'binary:logistic' was changed from 'error' to 'logloss'. Explicitly set eval_metric if you'd like to restore the old behavior.\n"
     ]
    },
    {
     "name": "stderr",
     "output_type": "stream",
     "text": [
      "The use of label encoder in XGBClassifier is deprecated and will be removed in a future release. To remove this warning, do the following: 1) Pass option use_label_encoder=False when constructing XGBClassifier object; and 2) Encode your labels (y) as integers starting with 0, i.e. 0, 1, 2, ..., [num_class - 1].\n"
     ]
    },
    {
     "name": "stdout",
     "output_type": "stream",
     "text": [
      "[22:33:59] WARNING: /Users/travis/build/dmlc/xgboost/src/learner.cc:1095: Starting in XGBoost 1.3.0, the default evaluation metric used with the objective 'binary:logistic' was changed from 'error' to 'logloss'. Explicitly set eval_metric if you'd like to restore the old behavior.\n"
     ]
    },
    {
     "name": "stderr",
     "output_type": "stream",
     "text": [
      "The use of label encoder in XGBClassifier is deprecated and will be removed in a future release. To remove this warning, do the following: 1) Pass option use_label_encoder=False when constructing XGBClassifier object; and 2) Encode your labels (y) as integers starting with 0, i.e. 0, 1, 2, ..., [num_class - 1].\n"
     ]
    },
    {
     "name": "stdout",
     "output_type": "stream",
     "text": [
      "[22:34:00] WARNING: /Users/travis/build/dmlc/xgboost/src/learner.cc:1095: Starting in XGBoost 1.3.0, the default evaluation metric used with the objective 'binary:logistic' was changed from 'error' to 'logloss'. Explicitly set eval_metric if you'd like to restore the old behavior.\n"
     ]
    },
    {
     "name": "stderr",
     "output_type": "stream",
     "text": [
      "The use of label encoder in XGBClassifier is deprecated and will be removed in a future release. To remove this warning, do the following: 1) Pass option use_label_encoder=False when constructing XGBClassifier object; and 2) Encode your labels (y) as integers starting with 0, i.e. 0, 1, 2, ..., [num_class - 1].\n"
     ]
    },
    {
     "name": "stdout",
     "output_type": "stream",
     "text": [
      "[22:34:02] WARNING: /Users/travis/build/dmlc/xgboost/src/learner.cc:1095: Starting in XGBoost 1.3.0, the default evaluation metric used with the objective 'binary:logistic' was changed from 'error' to 'logloss'. Explicitly set eval_metric if you'd like to restore the old behavior.\n"
     ]
    },
    {
     "name": "stderr",
     "output_type": "stream",
     "text": [
      "The use of label encoder in XGBClassifier is deprecated and will be removed in a future release. To remove this warning, do the following: 1) Pass option use_label_encoder=False when constructing XGBClassifier object; and 2) Encode your labels (y) as integers starting with 0, i.e. 0, 1, 2, ..., [num_class - 1].\n"
     ]
    },
    {
     "name": "stdout",
     "output_type": "stream",
     "text": [
      "[22:34:03] WARNING: /Users/travis/build/dmlc/xgboost/src/learner.cc:1095: Starting in XGBoost 1.3.0, the default evaluation metric used with the objective 'binary:logistic' was changed from 'error' to 'logloss'. Explicitly set eval_metric if you'd like to restore the old behavior.\n"
     ]
    },
    {
     "name": "stderr",
     "output_type": "stream",
     "text": [
      "The use of label encoder in XGBClassifier is deprecated and will be removed in a future release. To remove this warning, do the following: 1) Pass option use_label_encoder=False when constructing XGBClassifier object; and 2) Encode your labels (y) as integers starting with 0, i.e. 0, 1, 2, ..., [num_class - 1].\n"
     ]
    },
    {
     "name": "stdout",
     "output_type": "stream",
     "text": [
      "[22:34:05] WARNING: /Users/travis/build/dmlc/xgboost/src/learner.cc:1095: Starting in XGBoost 1.3.0, the default evaluation metric used with the objective 'binary:logistic' was changed from 'error' to 'logloss'. Explicitly set eval_metric if you'd like to restore the old behavior.\n"
     ]
    },
    {
     "name": "stderr",
     "output_type": "stream",
     "text": [
      "The use of label encoder in XGBClassifier is deprecated and will be removed in a future release. To remove this warning, do the following: 1) Pass option use_label_encoder=False when constructing XGBClassifier object; and 2) Encode your labels (y) as integers starting with 0, i.e. 0, 1, 2, ..., [num_class - 1].\n"
     ]
    },
    {
     "name": "stdout",
     "output_type": "stream",
     "text": [
      "[22:34:06] WARNING: /Users/travis/build/dmlc/xgboost/src/learner.cc:1095: Starting in XGBoost 1.3.0, the default evaluation metric used with the objective 'binary:logistic' was changed from 'error' to 'logloss'. Explicitly set eval_metric if you'd like to restore the old behavior.\n"
     ]
    },
    {
     "name": "stderr",
     "output_type": "stream",
     "text": [
      "The use of label encoder in XGBClassifier is deprecated and will be removed in a future release. To remove this warning, do the following: 1) Pass option use_label_encoder=False when constructing XGBClassifier object; and 2) Encode your labels (y) as integers starting with 0, i.e. 0, 1, 2, ..., [num_class - 1].\n"
     ]
    },
    {
     "name": "stdout",
     "output_type": "stream",
     "text": [
      "[22:34:08] WARNING: /Users/travis/build/dmlc/xgboost/src/learner.cc:1095: Starting in XGBoost 1.3.0, the default evaluation metric used with the objective 'binary:logistic' was changed from 'error' to 'logloss'. Explicitly set eval_metric if you'd like to restore the old behavior.\n"
     ]
    },
    {
     "name": "stderr",
     "output_type": "stream",
     "text": [
      "The use of label encoder in XGBClassifier is deprecated and will be removed in a future release. To remove this warning, do the following: 1) Pass option use_label_encoder=False when constructing XGBClassifier object; and 2) Encode your labels (y) as integers starting with 0, i.e. 0, 1, 2, ..., [num_class - 1].\n"
     ]
    },
    {
     "name": "stdout",
     "output_type": "stream",
     "text": [
      "[22:34:09] WARNING: /Users/travis/build/dmlc/xgboost/src/learner.cc:1095: Starting in XGBoost 1.3.0, the default evaluation metric used with the objective 'binary:logistic' was changed from 'error' to 'logloss'. Explicitly set eval_metric if you'd like to restore the old behavior.\n"
     ]
    },
    {
     "name": "stderr",
     "output_type": "stream",
     "text": [
      "The use of label encoder in XGBClassifier is deprecated and will be removed in a future release. To remove this warning, do the following: 1) Pass option use_label_encoder=False when constructing XGBClassifier object; and 2) Encode your labels (y) as integers starting with 0, i.e. 0, 1, 2, ..., [num_class - 1].\n"
     ]
    },
    {
     "name": "stdout",
     "output_type": "stream",
     "text": [
      "[22:34:11] WARNING: /Users/travis/build/dmlc/xgboost/src/learner.cc:1095: Starting in XGBoost 1.3.0, the default evaluation metric used with the objective 'binary:logistic' was changed from 'error' to 'logloss'. Explicitly set eval_metric if you'd like to restore the old behavior.\n"
     ]
    }
   ],
   "source": [
    "# Evaluate model's performance\n",
    "xgbc_cv_score = cross_val_score(xgbc, X_train, y_train, cv=10, scoring='roc_auc')\n",
    "# Calculate roc auc test\n",
    "roc_auc_value = roc_auc_score(y_test, xgbc_probs)"
   ]
  },
  {
   "cell_type": "code",
   "execution_count": 68,
   "metadata": {},
   "outputs": [
    {
     "name": "stdout",
     "output_type": "stream",
     "text": [
      "=== Confusion Matrix ===\n",
      "[[ 70  46]\n",
      " [ 14 886]]\n",
      "\n",
      "\n",
      "=== Classification Report ===\n",
      "              precision    recall  f1-score   support\n",
      "\n",
      "          NO       0.83      0.60      0.70       116\n",
      "         YES       0.95      0.98      0.97       900\n",
      "\n",
      "    accuracy                           0.94      1016\n",
      "   macro avg       0.89      0.79      0.83      1016\n",
      "weighted avg       0.94      0.94      0.94      1016\n",
      "\n",
      "\n",
      "\n",
      "=== All AUC Scores ===\n",
      "[0.96686069 0.9981216  0.99989606 0.99992575 0.99992555 0.99998511\n",
      " 0.99961287 0.99990322 0.99962032 0.99967243]\n",
      "\n",
      "\n",
      "=== Mean AUC Score ===\n",
      "Mean AUC Score - XGBoost:  0.9963523599214819\n",
      "=== Test AUC Score ===\n",
      "0.9320545977011494\n"
     ]
    }
   ],
   "source": [
    "print(\"=== Confusion Matrix ===\")\n",
    "print(confusion_matrix(y_test, xgbc_predict))\n",
    "print('\\n')\n",
    "print(\"=== Classification Report ===\")\n",
    "print(classification_report(y_test, xgbc_predict))\n",
    "print('\\n')\n",
    "print(\"=== All AUC Scores ===\")\n",
    "print(xgbc_cv_score)\n",
    "print('\\n')\n",
    "print(\"=== Mean AUC Score ===\")\n",
    "print(\"Mean AUC Score - XGBoost: \", xgbc_cv_score.mean())\n",
    "print(\"=== Test AUC Score ===\")\n",
    "print(roc_auc_value)"
   ]
  },
  {
   "cell_type": "code",
   "execution_count": 69,
   "metadata": {},
   "outputs": [
    {
     "data": {
      "text/html": [
       "<div>\n",
       "<style scoped>\n",
       "    .dataframe tbody tr th:only-of-type {\n",
       "        vertical-align: middle;\n",
       "    }\n",
       "\n",
       "    .dataframe tbody tr th {\n",
       "        vertical-align: top;\n",
       "    }\n",
       "\n",
       "    .dataframe thead th {\n",
       "        text-align: right;\n",
       "    }\n",
       "</style>\n",
       "<table border=\"1\" class=\"dataframe\">\n",
       "  <thead>\n",
       "    <tr style=\"text-align: right;\">\n",
       "      <th></th>\n",
       "      <th>Variable</th>\n",
       "      <th>Score</th>\n",
       "    </tr>\n",
       "  </thead>\n",
       "  <tbody>\n",
       "    <tr>\n",
       "      <th>0</th>\n",
       "      <td>Longitude</td>\n",
       "      <td>2663</td>\n",
       "    </tr>\n",
       "    <tr>\n",
       "      <th>1</th>\n",
       "      <td>Total_Service_Time</td>\n",
       "      <td>2563</td>\n",
       "    </tr>\n",
       "    <tr>\n",
       "      <th>2</th>\n",
       "      <td>Latitude</td>\n",
       "      <td>2393</td>\n",
       "    </tr>\n",
       "    <tr>\n",
       "      <th>3</th>\n",
       "      <td>Call_Priority_Code</td>\n",
       "      <td>925</td>\n",
       "    </tr>\n",
       "    <tr>\n",
       "      <th>4</th>\n",
       "      <td>Disposition_ARRESTED</td>\n",
       "      <td>354</td>\n",
       "    </tr>\n",
       "    <tr>\n",
       "      <th>5</th>\n",
       "      <td>Subject_Gender_F</td>\n",
       "      <td>306</td>\n",
       "    </tr>\n",
       "    <tr>\n",
       "      <th>6</th>\n",
       "      <td>Techniques_Used_OTHER</td>\n",
       "      <td>284</td>\n",
       "    </tr>\n",
       "    <tr>\n",
       "      <th>7</th>\n",
       "      <td>Subject_Race_White</td>\n",
       "      <td>256</td>\n",
       "    </tr>\n",
       "    <tr>\n",
       "      <th>8</th>\n",
       "      <td>Exhibiting_Behavior_DISORDERLY/DISRUPTIVE</td>\n",
       "      <td>253</td>\n",
       "    </tr>\n",
       "    <tr>\n",
       "      <th>9</th>\n",
       "      <td>Exhibiting_Behavior_SELF-THREATENING</td>\n",
       "      <td>244</td>\n",
       "    </tr>\n",
       "  </tbody>\n",
       "</table>\n",
       "</div>"
      ],
      "text/plain": [
       "                                    Variable  Score\n",
       "0                                  Longitude   2663\n",
       "1                         Total_Service_Time   2563\n",
       "2                                   Latitude   2393\n",
       "3                         Call_Priority_Code    925\n",
       "4                       Disposition_ARRESTED    354\n",
       "5                           Subject_Gender_F    306\n",
       "6                      Techniques_Used_OTHER    284\n",
       "7                         Subject_Race_White    256\n",
       "8  Exhibiting_Behavior_DISORDERLY/DISRUPTIVE    253\n",
       "9       Exhibiting_Behavior_SELF-THREATENING    244"
      ]
     },
     "execution_count": 69,
     "metadata": {},
     "output_type": "execute_result"
    }
   ],
   "source": [
    "fimp = xgbc.get_booster().get_score(importance_type='weight')\n",
    "keys3 = list(fimp.keys())\n",
    "values3 = list(fimp.values())\n",
    "\n",
    "fimp = pd.DataFrame(data=values3, index=keys3, columns=[\"score\"]).sort_values(by = \"score\", ascending=False)\n",
    "fimp = fimp.reset_index()\n",
    "fimp.columns = ['Variable','Score']\n",
    "fimp = fimp.sort_values(['Score'], ascending = False)\n",
    "fimp.head(10)"
   ]
  },
  {
   "cell_type": "code",
   "execution_count": 70,
   "metadata": {},
   "outputs": [
    {
     "data": {
      "text/plain": [
       "(array([0.  , 0.02, 0.04, 0.06, 0.08, 0.1 , 0.12]),\n",
       " [Text(0, 0, ''),\n",
       "  Text(0, 0, ''),\n",
       "  Text(0, 0, ''),\n",
       "  Text(0, 0, ''),\n",
       "  Text(0, 0, ''),\n",
       "  Text(0, 0, ''),\n",
       "  Text(0, 0, '')])"
      ]
     },
     "execution_count": 70,
     "metadata": {},
     "output_type": "execute_result"
    },
    {
     "data": {
      "image/png": "[encoded data removed]",
      "text/plain": [
       "<Figure size 720x720 with 1 Axes>"
      ]
     },
     "metadata": {
      "needs_background": "light"
     },
     "output_type": "display_data"
    }
   ],
   "source": [
    "## Feature importance based on feature permutation\n",
    "plt.figure(figsize=(10, 10))\n",
    "perm_importance = permutation_importance(\n",
    "    xgbc, X_test, y_test, n_repeats=10, random_state=42, n_jobs=6)\n",
    "sorted_idx = (-perm_importance.importances_mean).argsort()[:10][::-1]\n",
    "plt.barh(X_test.columns[sorted_idx], perm_importance.importances_mean[sorted_idx])\n",
    "plt.xlabel(\"Permutation Importance\",fontsize=14)\n",
    "plt.yticks(ha='right', fontsize=12)\n",
    "plt.xticks(ha='right', fontsize=10)"
   ]
  },
  {
   "cell_type": "code",
   "execution_count": 71,
   "metadata": {},
   "outputs": [
    {
     "data": {
      "text/plain": [
       "(array([0.  , 0.02, 0.04, 0.06, 0.08, 0.1 , 0.12]),\n",
       " [Text(0, 0, ''),\n",
       "  Text(0, 0, ''),\n",
       "  Text(0, 0, ''),\n",
       "  Text(0, 0, ''),\n",
       "  Text(0, 0, ''),\n",
       "  Text(0, 0, ''),\n",
       "  Text(0, 0, '')])"
      ]
     },
     "execution_count": 71,
     "metadata": {},
     "output_type": "execute_result"
    },
    {
     "data": {
      "image/png": "[encoded data removed]",
      "text/plain": [
       "<Figure size 360x360 with 1 Axes>"
      ]
     },
     "metadata": {
      "needs_background": "light"
     },
     "output_type": "display_data"
    }
   ],
   "source": [
    "plt.figure(figsize=(5, 5))\n",
    "sorted_idx = (-perm_importance.importances_mean).argsort()[:5][::-1]\n",
    "plt.barh(X_test.columns[sorted_idx], perm_importance.importances_mean[sorted_idx])\n",
    "plt.xlabel(\"Permutation Importance\",fontsize=14)\n",
    "plt.yticks(ha='right', fontsize=12)\n",
    "plt.xticks(ha='right', fontsize=10)"
   ]
  }
 ],
 "metadata": {
  "kernelspec": {
   "display_name": "Python 3",
   "language": "python",
   "name": "python3"
  },
  "language_info": {
   "codemirror_mode": {
    "name": "ipython",
    "version": 3
   },
   "file_extension": ".py",
   "mimetype": "text/x-python",
   "name": "python",
   "nbconvert_exporter": "python",
   "pygments_lexer": "ipython3",
   "version": "3.7.9"
  }
 },
 "nbformat": 4,
 "nbformat_minor": 4
}
